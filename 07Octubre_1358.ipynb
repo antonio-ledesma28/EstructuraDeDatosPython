{
  "nbformat": 4,
  "nbformat_minor": 0,
  "metadata": {
    "colab": {
      "name": "07Octubre_1358.ipynb",
      "provenance": [],
      "authorship_tag": "ABX9TyPhvGtwvjBuZ88LMAIhtRAL",
      "include_colab_link": true
    },
    "kernelspec": {
      "name": "python3",
      "display_name": "Python 3"
    }
  },
  "cells": [
    {
      "cell_type": "markdown",
      "metadata": {
        "id": "view-in-github",
        "colab_type": "text"
      },
      "source": [
        "<a href=\"https://colab.research.google.com/github/antonio-ledesma28/edd1358_2021/blob/master/07Octubre_1358.ipynb\" target=\"_parent\"><img src=\"https://colab.research.google.com/assets/colab-badge.svg\" alt=\"Open In Colab\"/></a>"
      ]
    },
    {
      "cell_type": "code",
      "metadata": {
        "id": "uHvKEqNrnSmH",
        "outputId": "afbe14d7-67f7-45b4-e1f3-cc9945efa8cc",
        "colab": {
          "base_uri": "https://localhost:8080/"
        }
      },
      "source": [
        "autos = [\"Mazda\",\"honda\",\"Akura\",\"Ford\",\"VW\"]\n",
        "telefonos = [\"iPhone\",\"Huawei Mate 30\", \"Xiaomi S10\",\"Alcatel t1000\"]\n",
        "sistemas_operativos = [ \"Windows\", \"Linux\" , \"Android\" , \"iOS\" ,\"MacOs\" ]\n",
        "procesador = [[\"Intel\",3.1,True],[\"AMD\",2.7,False],[\"Motorola\",1.1,False]]\n",
        "\n",
        "lista_nd = [autos,telefonos,sistemas_operativos,procesador]\n",
        "print(lista_nd)\n",
        "print(lista_nd[2][3])\n",
        "print(lista_nd[1][1][3:6])\n",
        "print(lista_nd[3][1][1])\n",
        "print(lista_nd[3][0][2:6])\n",
        "print(lista_nd[3][0][0][-2:-5:-1])\n",
        "\n",
        "#Concatenar listas\n",
        "colores =[\"rojo\",\"verde\",\"azul\",\"negro\"]\n",
        "flores = [\"margarita\",\"rosa\"]\n",
        "nueva = colores + flores\n",
        "print(nueva)\n",
        "print(colores)\n",
        "print(flores)\n",
        "#con extends\n",
        "colores.extend(flores)\n",
        "print(colores)\n",
        "\n",
        "#unpacking de listas\n",
        "print(\"unpacking\")\n",
        "datos_personales = [\"José\",\"Pérez\",\"Juárez\",22,1.67,True]\n",
        "nombre = datos_personales[0]\n",
        "nombre,paterno,materno,edad,est,fuma = datos_personales\n",
        "print(f\"Nombre: {nombre}\\nEdad:{edad}\")"
      ],
      "execution_count": 14,
      "outputs": [
        {
          "output_type": "stream",
          "text": [
            "[['Mazda', 'honda', 'Akura', 'Ford', 'VW'], ['iPhone', 'Huawei Mate 30', 'Xiaomi S10', 'Alcatel t1000'], ['Windows', 'Linux', 'Android', 'iOS', 'MacOs'], [['Intel', 3.1, True], ['AMD', 2.7, False], ['Motorola', 1.1, False]]]\n",
            "iOS\n",
            "wei\n",
            "2.7\n",
            "[True]\n",
            "etn\n",
            "['rojo', 'verde', 'azul', 'negro', 'margarita', 'rosa']\n",
            "['rojo', 'verde', 'azul', 'negro']\n",
            "['margarita', 'rosa']\n",
            "['rojo', 'verde', 'azul', 'negro', 'margarita', 'rosa']\n",
            "unpacking\n",
            "Nombre: José\n",
            " Edad:22\n"
          ],
          "name": "stdout"
        }
      ]
    },
    {
      "cell_type": "code",
      "metadata": {
        "id": "Z8JwqI1MuMy4",
        "outputId": "a2c50a8e-d93a-4d35-c057-cde0814c7cae",
        "colab": {
          "base_uri": "https://localhost:8080/"
        }
      },
      "source": [
        "#Tuplas\n",
        "bd = ('127.0.01','root','toor','1345')\n",
        "#No se puede bd[1] ='user1'\n",
        "print(f\"usuario de la bd es {bd[1]}\")\n",
        "print(bd[1:3])"
      ],
      "execution_count": 15,
      "outputs": [
        {
          "output_type": "stream",
          "text": [
            "usuario de la bd es root\n"
          ],
          "name": "stdout"
        }
      ]
    },
    {
      "cell_type": "code",
      "metadata": {
        "id": "dcN8yKa3wZe4",
        "outputId": "3919a50e-ff74-43fc-c970-2fb4c3b84281",
        "colab": {
          "base_uri": "https://localhost:8080/"
        }
      },
      "source": [
        "# Diccionarios\n",
        "alumno = {'nombre':'Juan', 'edad':22, 'carrera':'ICO'}\n",
        "print(alumno)\n",
        "print(alumno['edad'])\n",
        "alumno = {\n",
        "    'nombre':'Juan',\n",
        "    'edad' : 22,\n",
        "    'carrera':'ICO',\n",
        "    'direccion':{'calle':'Bosques de africa',\n",
        "                 'numero':33,\n",
        "                 'delegacion':'Nezahuacoyotl',\n",
        "                 'estado': 15,\n",
        "                 'nombre_estado':'Estado de Mexico'\n",
        "                 }\n",
        "  }\n",
        "print(alumno['direccion'])\n",
        "print(alumno['direccion']['delegacion'])\n",
        "print(alumno['direccion']['delegacion'][3:7])\n",
        "print(alumno['direccion']['delegacion'][3:7].upper())\n",
        "alumno['edad'] = 35\n",
        "print(alumno)\n",
        "alumno['promedio'] = 9.9\n",
        "print(alumno)\n",
        "alumno['direccion']['cp'] = 17542\n",
        "print(alumno)\n",
        "alumno['materia'] = {'nombre':'CyP', 'Calificacion':10}\n",
        "print(alumno)\n",
        "\n",
        "cliente = {'id': 1, 'nombre': 'Carlos Slim'}\n",
        "print(cliente)"
      ],
      "execution_count": 22,
      "outputs": [
        {
          "output_type": "stream",
          "text": [
            "{'nombre': 'Juan', 'edad': 22, 'carrera': 'ICO'}\n",
            "22\n",
            "{'calle': 'Bosques de africa', 'numero': 33, 'delegacion': 'Nezahuacoyotl', 'estado': 15, 'nombre_estado': 'Estado de Mexico'}\n",
            "Nezahuacoyotl\n",
            "ahua\n",
            "AHUA\n",
            "{'nombre': 'Juan', 'edad': 35, 'carrera': 'ICO', 'direccion': {'calle': 'Bosques de africa', 'numero': 33, 'delegacion': 'Nezahuacoyotl', 'estado': 15, 'nombre_estado': 'Estado de Mexico'}}\n",
            "{'nombre': 'Juan', 'edad': 35, 'carrera': 'ICO', 'direccion': {'calle': 'Bosques de africa', 'numero': 33, 'delegacion': 'Nezahuacoyotl', 'estado': 15, 'nombre_estado': 'Estado de Mexico'}, 'promedio': 9.9}\n",
            "{'nombre': 'Juan', 'edad': 35, 'carrera': 'ICO', 'direccion': {'calle': 'Bosques de africa', 'numero': 33, 'delegacion': 'Nezahuacoyotl', 'estado': 15, 'nombre_estado': 'Estado de Mexico', 'cp': 17542}, 'promedio': 9.9}\n",
            "{'nombre': 'Juan', 'edad': 35, 'carrera': 'ICO', 'direccion': {'calle': 'Bosques de africa', 'numero': 33, 'delegacion': 'Nezahuacoyotl', 'estado': 15, 'nombre_estado': 'Estado de Mexico', 'cp': 17542}, 'promedio': 9.9, 'materia': {'nombre': 'CyP', 'Calificacion': 10}}\n",
            "{'id': 1, 'nombre': 'Carlos Slim'}\n"
          ],
          "name": "stdout"
        }
      ]
    }
  ]
}