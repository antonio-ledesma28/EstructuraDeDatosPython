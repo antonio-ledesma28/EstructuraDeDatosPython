{
  "nbformat": 4,
  "nbformat_minor": 0,
  "metadata": {
    "colab": {
      "name": "30Septiembre_1358",
      "provenance": [],
      "authorship_tag": "ABX9TyMQTPoymtnNa4Op1Hrb0UKN",
      "include_colab_link": true
    },
    "kernelspec": {
      "name": "python3",
      "display_name": "Python 3"
    }
  },
  "cells": [
    {
      "cell_type": "markdown",
      "metadata": {
        "id": "view-in-github",
        "colab_type": "text"
      },
      "source": [
        "<a href=\"https://colab.research.google.com/github/antonio-ledesma28/edd1358_2021/blob/master/30Septiembre_1358.ipynb\" target=\"_parent\"><img src=\"https://colab.research.google.com/assets/colab-badge.svg\" alt=\"Open In Colab\"/></a>"
      ]
    },
    {
      "cell_type": "code",
      "metadata": {
        "id": "SKoVIA1Osnkd"
      },
      "source": [
        "Eded = 13\n",
        "Nombre = 'Antonio'\n",
        "Estatura = 1.80\n",
        "Tiene_ine = true\n",
        "\n",
        "###Compuestos\n",
        "###Listas\n",
        "son mutables\n",
        "se accede a los elementos vía el índice\n",
        "los elementos pueden ser de diferente tipo\n",
        "\n",
        "lista_ejemplo = [\"manzana\",1.57 , True, {\"rojo\",\"azul\"}]\n",
        "\n",
        "### Tuplas\n",
        "Son inmutables\n",
        "se accede a los elementos vía el índice\n",
        "los elementos pueden ser de diferente tipo\n",
        "\n",
        "tupla_ejemplo = (\"root\", \"123.322.45.4\",\"1234dios\")\n",
        "\n",
        "Diccionario\n"
      ],
      "execution_count": null,
      "outputs": []
    },
    {
      "cell_type": "code",
      "metadata": {
        "id": "wSgK6OYtuNLM",
        "outputId": "06afad0e-fa8a-4bf7-d58f-1d49f8b269f4",
        "colab": {
          "base_uri": "https://localhost:8080/",
          "height": 204
        }
      },
      "source": [
        "#Creación de una lista\n",
        "lista_ejemplo = [\"manzana\",1.57 , True, [\"rojo\",\"azul\"]]\n",
        "\n",
        "#Impresión del primer atributo de la lista\n",
        "print(lista_ejemplo[1])\n",
        "print(lista_ejemplo[3])\n",
        "print(lista_ejemplo[3][1])\n",
        "lista_ejemplo[0]=\"Manzana\"\n",
        "print(lista_ejemplo[0])\n",
        "lista_ejemplo.append(\"IPhone\")\n",
        "print(lista_ejemplo)\n",
        "valor = lista_ejemplo.pop()\n",
        "print(valor)\n",
        "print(lista_ejemplo)\n",
        "\n",
        "#Documentación del tipo de dato lista dir() y help()\n",
        "#dir(list)\n",
        "#help(list)\n",
        "print(\"-----------\")\n",
        "#Insertar un atributo en la casilla seleccionada\n",
        "lista_ejemplo.insert(1,\"Huawei\")\n",
        "print(lista_ejemplo)\n",
        "#Contador\n",
        "contador = lista_ejemplo.count(True)\n",
        "print(contador)\n",
        "\n",
        "#Concatenar dos listas\n",
        "colores = [\"Rosa\",\"Fiuzca\",\"Negro\"]\n",
        "lista_ejemplo.extend(colores)\n",
        "print(lista_ejemplo)"
      ],
      "execution_count": 18,
      "outputs": [
        {
          "output_type": "stream",
          "text": [
            "1.57\n",
            "['rojo', 'azul']\n",
            "azul\n",
            "Manzana\n",
            "['Manzana', 1.57, True, ['rojo', 'azul'], 'IPhone']\n",
            "IPhone\n",
            "['Manzana', 1.57, True, ['rojo', 'azul']]\n",
            "-----------\n",
            "['Manzana', 'Huawei', 1.57, True, ['rojo', 'azul']]\n",
            "1\n",
            "['Manzana', 'Huawei', 1.57, True, ['rojo', 'azul'], 'Rosa', 'Fiuzca', 'Negro']\n"
          ],
          "name": "stdout"
        }
      ]
    }
  ]
}