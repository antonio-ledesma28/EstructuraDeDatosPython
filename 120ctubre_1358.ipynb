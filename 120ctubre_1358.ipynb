{
  "nbformat": 4,
  "nbformat_minor": 0,
  "metadata": {
    "colab": {
      "name": "120ctubre_1358.ipynb",
      "provenance": [],
      "authorship_tag": "ABX9TyML381ele7IWXJhmUCNya++",
      "include_colab_link": true
    },
    "kernelspec": {
      "name": "python3",
      "display_name": "Python 3"
    }
  },
  "cells": [
    {
      "cell_type": "markdown",
      "metadata": {
        "id": "view-in-github",
        "colab_type": "text"
      },
      "source": [
        "<a href=\"https://colab.research.google.com/github/antonio-ledesma28/edd1358_2021/blob/master/120ctubre_1358.ipynb\" target=\"_parent\"><img src=\"https://colab.research.google.com/assets/colab-badge.svg\" alt=\"Open In Colab\"/></a>"
      ]
    },
    {
      "cell_type": "code",
      "metadata": {
        "id": "n0GkzDo_WX96",
        "outputId": "fd8c87ea-7337-4869-8a98-72c4d54728b0",
        "colab": {
          "base_uri": "https://localhost:8080/",
          "height": 122
        }
      },
      "source": [
        "#Diccionarios (continuación)\n",
        "cliente_banco = {\n",
        "           \"id\":1,\n",
        "           \"nombres\":[\"Juan\",\"Antonio\"],\n",
        "           \"paterno\": \"García\",\n",
        "           \"materno\":\"Pérez\",\n",
        "           \"teléfonos\":{\n",
        "                        \"casa\": 5540430210,\n",
        "                        \"celular\": 5527389191,\n",
        "                        \"trabajo\":5528939922                     \n",
        "                       },\n",
        "           \"activo\":True,\n",
        "           \"balance\":234567.89,\n",
        "           \"tarjetas\":({\"tipo\":\"débito\",\"saldo\":12000},\n",
        "                        {\"tipo\":\"crédito\",\"saldo\":3500})\n",
        "          }\n",
        "print(cliente_banco)\n",
        "#cliente_banco[\"balance\"] = cliente_banco[\"balance\"]-1000.89\n",
        "cliente_banco[\"balance\"]-=100.89\n",
        "print(cliente_banco)\n",
        "\n",
        "#Puedes cambiar una tupla solo por otra tupla\n",
        "cliente_banco[\"tarjetas\"] = ({\"tipo\":\"débito\",\"saldo\":12000},\n",
        "                        {\"tipo\":\"crédito\",\"saldo\":3500},\n",
        "                        {\"tipo\":\"crédito\",\"nivel\":\"oro\",\"saldo\":50000})\n",
        "print(cliente_banco)\n",
        "\n",
        "#Pop\n",
        "cliente_banco[\"direccion\"]={\"calle\":\"rancho seco\",\"num\":23}\n",
        "print(cliente_banco)\n",
        "cliente_banco.pop(\"tarjetas\")\n",
        "print(cliente_banco)\n",
        "\n"
      ],
      "execution_count": 12,
      "outputs": [
        {
          "output_type": "stream",
          "text": [
            "{'id': 1, 'nombres': ['Juan', 'Antonio'], 'paterno': 'García', 'materno': 'Pérez', 'teléfonos': {'casa': 5540430210, 'celular': 5527389191, 'trabajo': 5528939922}, 'activo': True, 'balance': 234567.89, 'tarjetas': ({'tipo': 'débito', 'saldo': 12000}, {'tipo': 'crédito', 'saldo': 3500})}\n",
            "{'id': 1, 'nombres': ['Juan', 'Antonio'], 'paterno': 'García', 'materno': 'Pérez', 'teléfonos': {'casa': 5540430210, 'celular': 5527389191, 'trabajo': 5528939922}, 'activo': True, 'balance': 234467.0, 'tarjetas': ({'tipo': 'débito', 'saldo': 12000}, {'tipo': 'crédito', 'saldo': 3500})}\n",
            "{'id': 1, 'nombres': ['Juan', 'Antonio'], 'paterno': 'García', 'materno': 'Pérez', 'teléfonos': {'casa': 5540430210, 'celular': 5527389191, 'trabajo': 5528939922}, 'activo': True, 'balance': 234467.0, 'tarjetas': ({'tipo': 'débito', 'saldo': 12000}, {'tipo': 'crédito', 'saldo': 3500}, {'tipo': 'crédito', 'nivel': 'oro', 'saldo': 50000})}\n",
            "{'id': 1, 'nombres': ['Juan', 'Antonio'], 'paterno': 'García', 'materno': 'Pérez', 'teléfonos': {'casa': 5540430210, 'celular': 5527389191, 'trabajo': 5528939922}, 'activo': True, 'balance': 234467.0, 'tarjetas': ({'tipo': 'débito', 'saldo': 12000}, {'tipo': 'crédito', 'saldo': 3500}, {'tipo': 'crédito', 'nivel': 'oro', 'saldo': 50000}), 'direccion': {'calle': 'rancho seco', 'num': 23}}\n",
            "{'id': 1, 'nombres': ['Juan', 'Antonio'], 'paterno': 'García', 'materno': 'Pérez', 'teléfonos': {'casa': 5540430210, 'celular': 5527389191, 'trabajo': 5528939922}, 'activo': True, 'balance': 234467.0, 'direccion': {'calle': 'rancho seco', 'num': 23}}\n"
          ],
          "name": "stdout"
        }
      ]
    },
    {
      "cell_type": "code",
      "metadata": {
        "id": "nqV3Auztdc-B",
        "outputId": "ce8fa760-4834-439a-ea39-70eddd680244",
        "colab": {
          "base_uri": "https://localhost:8080/",
          "height": 496
        }
      },
      "source": [
        "llaves = cliente_banco.keys()\n",
        "print(llaves)\n",
        "print(type(llaves))\n",
        "#Imprime el nombre de los ids\n",
        "for x in llaves:\n",
        "  print(x)\n",
        "\n",
        "valores = cliente_banco.values()\n",
        "for v in valores:\n",
        "  print(v)\n",
        "\n",
        "pares = cliente_banco.items()\n",
        "print(pares)\n",
        "\n",
        "for elem in pares:\n",
        "  print(f\"{elem[0]} = {elem[1]}\")"
      ],
      "execution_count": 23,
      "outputs": [
        {
          "output_type": "stream",
          "text": [
            "dict_keys(['id', 'nombres', 'paterno', 'materno', 'teléfonos', 'activo', 'balance', 'direccion'])\n",
            "<class 'dict_keys'>\n",
            "id\n",
            "nombres\n",
            "paterno\n",
            "materno\n",
            "teléfonos\n",
            "activo\n",
            "balance\n",
            "direccion\n",
            "1\n",
            "['Juan', 'Antonio']\n",
            "García\n",
            "Pérez\n",
            "{'casa': 5540430210, 'celular': 5527389191, 'trabajo': 5528939922}\n",
            "True\n",
            "234467.0\n",
            "{'calle': 'rancho seco', 'num': 23}\n",
            "dict_items([('id', 1), ('nombres', ['Juan', 'Antonio']), ('paterno', 'García'), ('materno', 'Pérez'), ('teléfonos', {'casa': 5540430210, 'celular': 5527389191, 'trabajo': 5528939922}), ('activo', True), ('balance', 234467.0), ('direccion', {'calle': 'rancho seco', 'num': 23})])\n",
            "id = 1\n",
            "nombres = ['Juan', 'Antonio']\n",
            "paterno = García\n",
            "materno = Pérez\n",
            "teléfonos = {'casa': 5540430210, 'celular': 5527389191, 'trabajo': 5528939922}\n",
            "activo = True\n",
            "balance = 234467.0\n",
            "direccion = {'calle': 'rancho seco', 'num': 23}\n"
          ],
          "name": "stdout"
        }
      ]
    },
    {
      "cell_type": "code",
      "metadata": {
        "id": "5aCrIddcg5Te",
        "outputId": "c1952e66-b959-4047-9a9d-87ec041d8872",
        "colab": {
          "base_uri": "https://localhost:8080/",
          "height": 34
        }
      },
      "source": [
        "fruta = {\"nombre\":\"manzana\",\"color\":\"rojo\",\"estado\":\"chihuahua\"}\n",
        "otras_caracteristicas = {\"vitamina\":\"D\"}\n",
        "fruta.update(otras_caracteristicas)\n",
        "print(fruta)"
      ],
      "execution_count": 28,
      "outputs": [
        {
          "output_type": "stream",
          "text": [
            "{'nombre': 'manzana', 'color': 'rojo', 'estado': 'chihuahua', 'vitamina': 'D'}\n"
          ],
          "name": "stdout"
        }
      ]
    },
    {
      "cell_type": "markdown",
      "metadata": {
        "id": "vJ6W-nF2iggQ"
      },
      "source": [
        "#Funciones\n",
        "- recibe de 0 a n argumentos de entrada\n",
        "- regresa solo un valor, aunque ese valor sea None.\n",
        "- tiene un nombre en el contexto.\n",
        "- se pueden hacer dos cosas con funciones:\n",
        "    - Definirla\n",
        "    - Llamarla"
      ]
    },
    {
      "cell_type": "code",
      "metadata": {
        "id": "eD7t_axYjBfx",
        "outputId": "06d52622-de31-4fa7-cb9c-3ff22592f10f",
        "colab": {
          "base_uri": "https://localhost:8080/",
          "height": 51
        }
      },
      "source": [
        "def suma(a,b):\n",
        "  return a+b\n",
        "\n",
        "def saludar():\n",
        "  print(\"Hola ¿Cómo estás?\")\n",
        "  return None\n",
        "\n",
        "x=10\n",
        "y=20\n",
        "c= suma(x,y)\n",
        "print(c)\n",
        "saludar()\n"
      ],
      "execution_count": 32,
      "outputs": [
        {
          "output_type": "stream",
          "text": [
            "30\n",
            "Hola ¿Cómo estás?\n"
          ],
          "name": "stdout"
        }
      ]
    },
    {
      "cell_type": "markdown",
      "metadata": {
        "id": "afxWlcTukuXr"
      },
      "source": [
        "#None y las funciones\n",
        "Aprovechar el uso de none en paso de parámetros."
      ]
    },
    {
      "cell_type": "code",
      "metadata": {
        "id": "_hH7cNCMkHjN"
      },
      "source": [
        ""
      ],
      "execution_count": null,
      "outputs": []
    },
    {
      "cell_type": "code",
      "metadata": {
        "id": "QmIi--jOk5e_",
        "outputId": "1f1593b8-3710-46db-e7cb-39a4b0fd3af8",
        "colab": {
          "base_uri": "https://localhost:8080/",
          "height": 51
        }
      },
      "source": [
        "def calcular(base,veces):\n",
        "  if base != None:\n",
        "    resultado = base *veces\n",
        "  else:\n",
        "    resultado = \"desconocido\"\n",
        "  return resultado\n",
        "\n",
        "print(calcular(4,3))\n",
        "print(calcular(None,3))"
      ],
      "execution_count": 36,
      "outputs": [
        {
          "output_type": "stream",
          "text": [
            "12\n",
            "desconocido\n"
          ],
          "name": "stdout"
        }
      ]
    }
  ]
}