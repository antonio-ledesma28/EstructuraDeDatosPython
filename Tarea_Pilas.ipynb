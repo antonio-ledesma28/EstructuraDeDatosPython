{
  "nbformat": 4,
  "nbformat_minor": 0,
  "metadata": {
    "colab": {
      "name": "30_Nov_1358.ipynb",
      "provenance": [],
      "collapsed_sections": [],
      "authorship_tag": "ABX9TyMDsEsoAk5dA0kyPZD6/24b",
      "include_colab_link": true
    },
    "kernelspec": {
      "name": "python3",
      "display_name": "Python 3"
    }
  },
  "cells": [
    {
      "cell_type": "markdown",
      "metadata": {
        "id": "view-in-github",
        "colab_type": "text"
      },
      "source": [
        "<a href=\"https://colab.research.google.com/github/antonio-ledesma28/edd1358_2021/blob/master/Tarea_Pilas.ipynb\" target=\"_parent\"><img src=\"https://colab.research.google.com/assets/colab-badge.svg\" alt=\"Open In Colab\"/></a>"
      ]
    },
    {
      "cell_type": "code",
      "metadata": {
        "id": "yU3JZwpv8hVS"
      },
      "source": [
        "#Ledesma Briones Antonio Yamir\n",
        "#Pilas\n",
        "\n",
        "class Stack:\n",
        "    def __init__(self):\n",
        "        self.__data = []\n",
        "        self.__size =0\n",
        "\n",
        "\n",
        "    def pop(self):\n",
        "        self.__size -= 1\n",
        "        return self.__data.pop()\n",
        "\n",
        "\n",
        "    def peek(self):\n",
        "        if self.__size > 0:\n",
        "            return self.__data[-1]\n",
        "        else:\n",
        "            return None\n",
        "\n",
        "\n",
        "    def push(self, value):\n",
        "        self.__data.append(value)\n",
        "        self.__size += 1\n",
        "\n",
        "    \n",
        "\n",
        "    def validar(self):\n",
        "        for elem in cadena:\n",
        "            if elem == '(' :\n",
        "                pila.push('*')\n",
        "            elif elem == ')' :\n",
        "                if pila.peek() != '#':\n",
        "                    pila.pop()\n",
        "                elif elem != pila.pop():\n",
        "                    pila.push('*')\n",
        "                else:\n",
        "                    pass\n",
        "            else:\n",
        "                pass\n",
        "        if pila.peek() == '#' :\n",
        "            print(\"La expresión está balaceada en paréntesis\") \n",
        "        else:\n",
        "            print(\"La expesión no está balanceada en paréntesis\")\n",
        "\n",
        "\n",
        "\n",
        "    def to_string(self):\n",
        "        print(\"--------\")\n",
        "        for dato in self.__data[::-1]:\n",
        "            print(f\" | {dato} |\")\n",
        "            print(\"--------\")"
      ],
      "execution_count": 44,
      "outputs": []
    },
    {
      "cell_type": "code",
      "metadata": {
        "colab": {
          "base_uri": "https://localhost:8080/"
        },
        "id": "a1bwNPTt9PFM",
        "outputId": "3707f05d-2749-495e-8fc8-30e687a157a9"
      },
      "source": [
        "pl = Stack()\n",
        "pl.push(34)\n",
        "pl.push(10)\n",
        "pl.push(45)\n",
        "pl.push(4)\n",
        "pl.push(23)\n",
        "pl.push(33)\n",
        "valor = pl.pop()\n",
        "print(valor*2)\n",
        "pl.to_string()\n",
        "valor = pl.peek()\n",
        "print(valor*2)\n",
        "pl.to_string()"
      ],
      "execution_count": 45,
      "outputs": [
        {
          "output_type": "stream",
          "text": [
            "66\n",
            "--------\n",
            " | 23 |\n",
            "--------\n",
            " | 4 |\n",
            "--------\n",
            " | 45 |\n",
            "--------\n",
            " | 10 |\n",
            "--------\n",
            " | 34 |\n",
            "--------\n",
            "46\n",
            "--------\n",
            " | 23 |\n",
            "--------\n",
            " | 4 |\n",
            "--------\n",
            " | 45 |\n",
            "--------\n",
            " | 10 |\n",
            "--------\n",
            " | 34 |\n",
            "--------\n"
          ],
          "name": "stdout"
        }
      ]
    },
    {
      "cell_type": "code",
      "metadata": {
        "colab": {
          "base_uri": "https://localhost:8080/"
        },
        "id": "xrtBkKyLB2dX",
        "outputId": "3127d3cb-8339-4b61-efa1-a9e7d597c0d6"
      },
      "source": [
        "# Aplicaciones de la estructura Stack\n",
        "# Validación de paréntesis balanceados '()' , '{}' y '[]'\n",
        "cadena  = \"b=3*(5(+(4/2)))\"\n",
        "#cadena = \")))))(()\"\n",
        "pila = Stack()\n",
        "pila.push('#')# Carecter de pila vacia.\n",
        "pila.validar()\n",
        "cadena = \"b=3*(((((5(+(4/2)))\"\n",
        "pila.validar()\n",
        "cadena = \"b=3*(5(+(4/2)))))\"\n",
        "pila.validar()"
      ],
      "execution_count": 46,
      "outputs": [
        {
          "output_type": "stream",
          "text": [
            "La expresión está balaceada en paréntesis\n",
            "La expesión no está balanceada en paréntesis\n",
            "La expesión no está balanceada en paréntesis\n"
          ],
          "name": "stdout"
        }
      ]
    }
  ]
}