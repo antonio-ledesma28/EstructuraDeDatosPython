{
  "nbformat": 4,
  "nbformat_minor": 0,
  "metadata": {
    "colab": {
      "name": "19Octubre:1358.ipynb",
      "provenance": [],
      "toc_visible": true,
      "authorship_tag": "ABX9TyNs4wvomjeUx0wHy+RjXtW4",
      "include_colab_link": true
    },
    "kernelspec": {
      "name": "python3",
      "display_name": "Python 3"
    }
  },
  "cells": [
    {
      "cell_type": "markdown",
      "metadata": {
        "id": "view-in-github",
        "colab_type": "text"
      },
      "source": [
        "<a href=\"https://colab.research.google.com/github/antonio-ledesma28/edd1358_2021/blob/master/19Octubre_1358.ipynb\" target=\"_parent\"><img src=\"https://colab.research.google.com/assets/colab-badge.svg\" alt=\"Open In Colab\"/></a>"
      ]
    },
    {
      "cell_type": "code",
      "metadata": {
        "id": "K6W0Cs-aZBo-",
        "outputId": "f33326c2-fc1d-4e83-f13c-e4da97b82d62",
        "colab": {
          "base_uri": "https://localhost:8080/",
          "height": 68
        }
      },
      "source": [
        "archivo = open('sample_data/frutas.txt','rt')\n",
        "\n",
        "data = archivo.read()\n",
        "\n",
        "print(data.upper())\n",
        "archivo.close()"
      ],
      "execution_count": 4,
      "outputs": [
        {
          "output_type": "stream",
          "text": [
            "LIMON, AGUACATE, FRESA, MANZANA\n",
            "CIRUELA, CAPULÍN, NARANJA\n",
            "PERA, KIWI\n"
          ],
          "name": "stdout"
        }
      ]
    },
    {
      "cell_type": "code",
      "metadata": {
        "id": "SNh1zdlkeB71",
        "outputId": "a075aeb9-4575-440f-babc-eee2f8568ed9",
        "colab": {
          "base_uri": "https://localhost:8080/",
          "height": 102
        }
      },
      "source": [
        "#readline()\n",
        "archivo = open('sample_data/frutas.txt','rt')\n",
        "print(archivo.readline())\n",
        "print(archivo.readline())\n",
        "print(archivo.readline())\n",
        "archivo.close()"
      ],
      "execution_count": 5,
      "outputs": [
        {
          "output_type": "stream",
          "text": [
            "limon, aguacate, fresa, manzana\n",
            "\n",
            "ciruela, capulín, naranja\n",
            "\n",
            "pera, kiwi\n"
          ],
          "name": "stdout"
        }
      ]
    },
    {
      "cell_type": "code",
      "metadata": {
        "id": "0Zrsnu_CgJIj",
        "outputId": "43e30b69-09bf-48f0-b230-1d300a4a700d",
        "colab": {
          "base_uri": "https://localhost:8080/",
          "height": 51
        }
      },
      "source": [
        "#Readlines()\n",
        "\n",
        "archivo = open('sample_data/frutas.txt','rt')\n",
        "\n",
        "data = archivo.readlines()\n",
        "print(data)\n",
        "\n",
        "#Quitar saltos de línea\n",
        "frutas=[]\n",
        "for linea in data:\n",
        "  frutas.append(linea.strip())\n",
        "\n",
        "#############################\n",
        "frutas_final = []\n",
        "for elem in frutas:\n",
        "  for fruta in elem.split(','):\n",
        "    frutas_final.append(fruta.strip())\n",
        "\n",
        "print(frutas_final)\n",
        "archivo.close()"
      ],
      "execution_count": 10,
      "outputs": [
        {
          "output_type": "stream",
          "text": [
            "['limon, aguacate, fresa, manzana\\n', 'ciruela, capulín, naranja\\n', 'pera, kiwi']\n",
            "['limon', 'aguacate', 'fresa', 'manzana', 'ciruela', 'capulín', 'naranja', 'pera', 'kiwi']\n"
          ],
          "name": "stdout"
        }
      ]
    },
    {
      "cell_type": "markdown",
      "metadata": {
        "id": "2cAIgzVwlEm4"
      },
      "source": [
        "# POO con Python\n",
        "- clase\n",
        "- objetos\n",
        "- atributos\n",
        "- métodos\n",
        "- método constructor\n",
        "- encapsulamiento (público y privado)\n",
        "- herencia\n",
        "\n",
        "Declarar clase en python se usa la palabra reservada Class\n"
      ]
    },
    {
      "cell_type": "code",
      "metadata": {
        "id": "0Pf5mRo7lsvn",
        "outputId": "0d2e3c1c-4b43-4f5d-ea48-2f8797de3386",
        "colab": {
          "base_uri": "https://localhost:8080/",
          "height": 51
        }
      },
      "source": [
        "class Persona:\n",
        "  #Método constructor\n",
        "  def __init__( self, edd, est ):\n",
        "    #__ Es para hacer las variables privadas\n",
        "    self.__edad = edd\n",
        "    self.__estatura= est\n",
        "\n",
        "  def to_string( self ):\n",
        "      print(f\"Edad={self.__edad}, estatura={self.__estatura}\")\n",
        "\n",
        "per1 = Persona(23,1.78)\n",
        "per1.to_string()\n",
        "##Private evita que estatura se modifique\n",
        "per1.__estatura = 10.40\n",
        "per1.to_string()\n",
        "\n",
        "#Siguinete clase, encapsulamiento"
      ],
      "execution_count": 21,
      "outputs": [
        {
          "output_type": "stream",
          "text": [
            "Edad=23, estatura=1.78\n",
            "Edad=23, estatura=1.78\n"
          ],
          "name": "stdout"
        }
      ]
    }
  ]
}