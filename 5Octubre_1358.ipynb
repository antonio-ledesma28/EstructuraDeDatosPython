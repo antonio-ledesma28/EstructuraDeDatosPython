{
  "nbformat": 4,
  "nbformat_minor": 0,
  "metadata": {
    "colab": {
      "name": "Untitled",
      "provenance": [],
      "authorship_tag": "ABX9TyMCI+84f7MzlF5p2WHUnyx9",
      "include_colab_link": true
    },
    "kernelspec": {
      "name": "python3",
      "display_name": "Python 3"
    }
  },
  "cells": [
    {
      "cell_type": "markdown",
      "metadata": {
        "id": "view-in-github",
        "colab_type": "text"
      },
      "source": [
        "<a href=\"https://colab.research.google.com/github/antonio-ledesma28/edd1358_2021/blob/master/5Octubre_1358.ipynb\" target=\"_parent\"><img src=\"https://colab.research.google.com/assets/colab-badge.svg\" alt=\"Open In Colab\"/></a>"
      ]
    },
    {
      "cell_type": "code",
      "metadata": {
        "id": "prWSDf3NVsZ5",
        "outputId": "23d35afe-d7a4-4764-8e92-bdf2fa918e87",
        "colab": {
          "base_uri": "https://localhost:8080/",
          "height": 85
        }
      },
      "source": [
        "precio = 12.5\n",
        "cantidad=2\n",
        "existencia=True\n",
        "\n",
        "#Precio de los chetos es $12.5 y quiero 2, hay?: True\n",
        "\n",
        "print(\"precio de los chetos es $\",precio,\" y quiero\",cantidad,\", hay?:\", existencia)\n",
        "\n",
        "#Format () de la clase Str\n",
        "#Comodines\n",
        "print(\"precio de los chetos es ${} y quiero {}, hay?: {}\".format(precio,cantidad,existencia))\n",
        "#Se enumeran los comodines para rellenar en el orden deseado\n",
        "print(\"precio de los chetos es ${0} y quiero {1}, hay?: {2}\".format(precio,cantidad,existencia))\n",
        "\n",
        "#Operador f\"\"\n",
        "print(f\"precio de los chetos es ${precio} y quiero {cantidad}, hay?: {existencia}\")"
      ],
      "execution_count": null,
      "outputs": [
        {
          "output_type": "stream",
          "text": [
            "precio de los chetos es $ 12.5  y quiero 2 , hay?: True\n",
            "precio de los chetos es $12.5 y quiero 2, hay?: True\n",
            "precio de los chetos es $12.5 y quiero 2, hay?: True\n",
            "precio de los chetos es $12.5 y quiero 2, hay?: True\n"
          ],
          "name": "stdout"
        }
      ]
    },
    {
      "cell_type": "markdown",
      "metadata": {
        "id": "wFZlyqSXYO5a"
      },
      "source": [
        "#Listas\n",
        "Declaracion[ ]\n",
        "\n",
        "selector [ ]\n",
        "\n",
        "mutable\n",
        "#Tuplas\n",
        "declaracion ( )\n",
        "\n",
        "selector [ ]\n",
        "\n",
        "No mutable\n",
        "#Diccionarios\n",
        "Conjuntos de datos en pares de llave:valor\n",
        "\n",
        "son mutables\n",
        "\n",
        "equivalentes a JSON\n",
        "#Conjuntos\n",
        "Geupo de elementos con la teoría de conjuntos\n",
        "\n",
        "Operaciones de conjuntos"
      ]
    },
    {
      "cell_type": "code",
      "metadata": {
        "id": "9QYXoc-eZY25",
        "outputId": "0561e36b-e2c3-4f87-e54d-c8ed152e5bb1",
        "colab": {
          "base_uri": "https://localhost:8080/",
          "height": 374
        }
      },
      "source": [
        "#Listas\n",
        "#Lista = Arreglo en otros lenguajes como Java\n",
        "materias = [\"CyP\", \"DAA\",\"EDD\",\"IS\",\"POO\"]\n",
        "print(materias)\n",
        "\n",
        "print(materias[2])\n",
        "#Para imprimir el último elemento se puede hacer de dos formas\n",
        "#print(materias[4]) o print(materias[-1])\n",
        "print(materias[-1])\n",
        "#Slicing para imprimir en orden inverso\n",
        "print(materias[::-1])\n",
        "\n",
        "#Split regresa la cadena con los subconjuntos encontrado\n",
        "fecha = \"5/Octubre/2020\"\n",
        "lista_fecha= fecha.split(\"/\")\n",
        "print(lista_fecha)\n",
        "\n",
        "#Crear un String a partir de una lista\n",
        "lista_hora = [\"15\",\"22\",\"45\"]\n",
        "\n",
        "#\":\" Es el elemento que va a juntar a los String\n",
        "hora = \":\".join(lista_hora)\n",
        "\n",
        "print(\"----------------------------------\")\n",
        "print(materias)\n",
        "print(lista_fecha)\n",
        "print(lista_hora)\n",
        "\n",
        "materias[0]=\"Computadoras y Programación\"\n",
        "print(materias)\n",
        "\n",
        "#Agregar\n",
        "materias.append(\"Calidad\")\n",
        "print(materias)\n",
        "#Inserta un elemento en la locación seleccionada\n",
        "materias.insert(2,\"Emprendimiento\")\n",
        "print(materias)\n",
        "#Te saca i guarda el último elemento del índice\n",
        "materia=materias.pop()\n",
        "print(materias)\n",
        "print(materia)\n",
        "materia = materias.pop(1)\n",
        "print(materias)\n",
        "print(materia)\n",
        "\n",
        "#Vaciar una lista Clear\n",
        "materias.clear()\n",
        "print(materias)\n",
        "\n",
        "#Slicing\n",
        "print(\"Slicing\")\n",
        "numeros=[0,1,2,3,4,5,6,7,8,9,10]\n",
        "print(numeros)\n",
        "print(numeros[4:9:1])\n",
        "numeros[4:9:1] = [-2,-3]\n",
        "print(numeros)\n",
        "\n",
        "#Sustituir un  segmento con Slicing [0,1,2,3,-1,9,10]"
      ],
      "execution_count": 38,
      "outputs": [
        {
          "output_type": "stream",
          "text": [
            "['CyP', 'DAA', 'EDD', 'IS', 'POO']\n",
            "EDD\n",
            "POO\n",
            "['POO', 'IS', 'EDD', 'DAA', 'CyP']\n",
            "['5', 'Octubre', '2020']\n",
            "----------------------------------\n",
            "['CyP', 'DAA', 'EDD', 'IS', 'POO']\n",
            "['5', 'Octubre', '2020']\n",
            "['15', '22', '45']\n",
            "['Computadoras y Programación', 'DAA', 'EDD', 'IS', 'POO']\n",
            "['Computadoras y Programación', 'DAA', 'EDD', 'IS', 'POO', 'Calidad']\n",
            "['Computadoras y Programación', 'DAA', 'Emprendimiento', 'EDD', 'IS', 'POO', 'Calidad']\n",
            "['Computadoras y Programación', 'DAA', 'Emprendimiento', 'EDD', 'IS', 'POO']\n",
            "Calidad\n",
            "['Computadoras y Programación', 'Emprendimiento', 'EDD', 'IS', 'POO']\n",
            "DAA\n",
            "[]\n",
            "Slicing\n",
            "[0, 1, 2, 3, 4, 5, 6, 7, 8, 9, 10]\n",
            "[4, 5, 6, 7, 8]\n",
            "[0, 1, 2, 3, -2, -3, 9, 10]\n"
          ],
          "name": "stdout"
        }
      ]
    },
    {
      "cell_type": "code",
      "metadata": {
        "id": "hQC4slvwh_DD",
        "outputId": "bcba3b99-5181-45c4-a07d-fe6f5d1dbc5d",
        "colab": {
          "base_uri": "https://localhost:8080/",
          "height": 54
        }
      },
      "source": [
        "autos=[\"Mazda\",\"Honda\",\"Akura\",\"Ford\",\"VW\"]\n",
        "telefonos=[\"iPhone\",\"Huawei Mate 30\",\"Xiaomi S10\",\"Alcatel t1000\"]\n",
        "sistemas_Operativos = [\"Windows\",\"Linux\",\"Android\",\"iOS\",\"MacOs\"]\n",
        "\n",
        "lista_2d = [autos,telefonos,sistemas_Operativos]\n",
        "print(lista_2d)"
      ],
      "execution_count": 41,
      "outputs": [
        {
          "output_type": "stream",
          "text": [
            "[['Mazda', 'Honda', 'Akura', 'Ford', 'VW'], ['iPhone', 'Huawei Mate 30', 'Xiaomi S10', 'Alcatel t1000'], ['Windows', 'Linux', 'Android', 'iOS', 'MacOs']]\n"
          ],
          "name": "stdout"
        }
      ]
    }
  ]
}