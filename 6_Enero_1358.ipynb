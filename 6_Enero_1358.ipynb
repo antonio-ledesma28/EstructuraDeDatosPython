{
  "nbformat": 4,
  "nbformat_minor": 0,
  "metadata": {
    "colab": {
      "name": "6_Enero_1358.ipynb",
      "provenance": [],
      "authorship_tag": "ABX9TyMWJjmY1wcY3UaAA7HjLk2A",
      "include_colab_link": true
    },
    "kernelspec": {
      "name": "python3",
      "display_name": "Python 3"
    }
  },
  "cells": [
    {
      "cell_type": "markdown",
      "metadata": {
        "id": "view-in-github",
        "colab_type": "text"
      },
      "source": [
        "<a href=\"https://colab.research.google.com/github/antonio-ledesma28/edd1358_2021/blob/master/6_Enero_1358.ipynb\" target=\"_parent\"><img src=\"https://colab.research.google.com/assets/colab-badge.svg\" alt=\"Open In Colab\"/></a>"
      ]
    },
    {
      "cell_type": "code",
      "metadata": {
        "id": "woze-8u4pO1i"
      },
      "source": [
        "class Queue:\r\n",
        "\r\n",
        "    def __init__(self):\r\n",
        "        self.__data = list()\r\n",
        "\r\n",
        "    def is_empty(self):\r\n",
        "        return len(self.__data) == 0\r\n",
        "\r\n",
        "\r\n",
        "    def length(self):\r\n",
        "        return len(self.__data)\r\n",
        "\r\n",
        "    def enqueue(self, item):\r\n",
        "        self.__data.append(item)\r\n",
        "\r\n",
        "    def dequeue(self):\r\n",
        "        if not self.is_empty():\r\n",
        "            return self.__data.pop(0)      \r\n",
        "        else:\r\n",
        "            return None\r\n",
        "\r\n",
        "    def to_string(self):\r\n",
        "        cadena = \"\"\r\n",
        "        for elem in self.__data:\r\n",
        "            cadena = cadena +\"| \" + elem\r\n",
        "        cadena = cadena +\"|\"\r\n",
        "        return cadena"
      ],
      "execution_count": 9,
      "outputs": []
    },
    {
      "cell_type": "code",
      "metadata": {
        "id": "pU-Zb8scpcEU"
      },
      "source": [
        "class BoundedPriorityQueue:\r\n",
        "    def __init__(self,niveles):\r\n",
        "        self.__data = [Queue() for x in range(niveles)] #Creación de lista con colas\r\n",
        "        self.__size = 0\r\n",
        "\r\n",
        "    def is_empty(self):\r\n",
        "        return self.__size == 0\r\n",
        "\r\n",
        "    def lenght(self):\r\n",
        "        return self.__size\r\n",
        "\r\n",
        "    def enqueue(self,prioridad, elem):\r\n",
        "        if prioridad < len(self.__data) and prioridad >=0:\r\n",
        "            self.__data[prioridad].enqueue(elem)\r\n",
        "            self.__size +=1\r\n",
        "        else:\r\n",
        "            print(\"Prioridad fuera de rango\")\r\n",
        "    \r\n",
        "    def dequeue(self):\r\n",
        "        if not self.is_empty():\r\n",
        "            nivel = 0\r\n",
        "            while self.__data[nivel].is_empty():\r\n",
        "                nivel += 1\r\n",
        "            return self.__data[nivel].dequeue()\r\n",
        "\r\n",
        "    def to_string(self):\r\n",
        "        for nivel in range(len(self.__data)):\r\n",
        "            print(f\" Nivel {nivel} --> {self.__data[nivel].to_string()}\")"
      ],
      "execution_count": 11,
      "outputs": []
    },
    {
      "cell_type": "code",
      "metadata": {
        "colab": {
          "base_uri": "https://localhost:8080/"
        },
        "id": "v1sJDKHo2CJE",
        "outputId": "f0a4c3f1-e54a-4dcb-a0d0-28b649e55685"
      },
      "source": [
        "cpa = BoundedPriorityQueue(5)\r\n",
        "\"\"\"\r\n",
        "Prioridad      Nombre\r\n",
        "2               Diana\r\n",
        "3               Santiago\r\n",
        "0               Roberto\r\n",
        "0               Pedro\r\n",
        "2               María\r\n",
        "3               José\r\n",
        "4               Mayra\r\n",
        "4               Elena\r\n",
        "\"\"\"\r\n",
        "cpa.enqueue(2,\"Diana\")\r\n",
        "cpa.to_string()\r\n",
        "cpa.enqueue(3,\"Santiago\")\r\n",
        "cpa.enqueue(0,\"Roberto\")\r\n",
        "cpa.enqueue(0,\"Pedro\")\r\n",
        "cpa.enqueue(2,\"María\")\r\n",
        "cpa.enqueue(3,\"José\")\r\n",
        "cpa.enqueue(4,\"Mayra\")\r\n",
        "cpa.enqueue(4,\"Elena\")\r\n",
        "cpa.to_string()\r\n",
        "\r\n",
        "siguiente = cpa.dequeue()\r\n",
        "print(siguiente)\r\n",
        "cpa.to_string()"
      ],
      "execution_count": 17,
      "outputs": [
        {
          "output_type": "stream",
          "text": [
            " Nivel 0 --> |\n",
            " Nivel 1 --> |\n",
            " Nivel 2 --> | Diana|\n",
            " Nivel 3 --> |\n",
            " Nivel 4 --> |\n",
            " Nivel 0 --> | Roberto| Pedro|\n",
            " Nivel 1 --> |\n",
            " Nivel 2 --> | Diana| María|\n",
            " Nivel 3 --> | Santiago| José|\n",
            " Nivel 4 --> | Mayra| Elena|\n",
            "Roberto\n",
            " Nivel 0 --> | Pedro|\n",
            " Nivel 1 --> |\n",
            " Nivel 2 --> | Diana| María|\n",
            " Nivel 3 --> | Santiago| José|\n",
            " Nivel 4 --> | Mayra| Elena|\n"
          ],
          "name": "stdout"
        }
      ]
    }
  ]
}