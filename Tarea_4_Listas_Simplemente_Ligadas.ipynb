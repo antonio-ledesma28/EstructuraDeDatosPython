{
  "nbformat": 4,
  "nbformat_minor": 0,
  "metadata": {
    "colab": {
      "name": "Tarea 4 Listas Simplemente Ligadas.ipynb",
      "provenance": [],
      "authorship_tag": "ABX9TyOajda8wIePmiyOZjmJ7dNH",
      "include_colab_link": true
    },
    "kernelspec": {
      "display_name": "Python 3",
      "name": "python3"
    }
  },
  "cells": [
    {
      "cell_type": "markdown",
      "metadata": {
        "id": "view-in-github",
        "colab_type": "text"
      },
      "source": [
        "<a href=\"https://colab.research.google.com/github/antonio-ledesma28/edd1358_2021/blob/master/Tarea_4_Listas_Simplemente_Ligadas.ipynb\" target=\"_parent\"><img src=\"https://colab.research.google.com/assets/colab-badge.svg\" alt=\"Open In Colab\"/></a>"
      ]
    },
    {
      "cell_type": "code",
      "metadata": {
        "id": "NIfg_H0cctit"
      },
      "source": [
        "'''Terminar el método remove y pop  del tema de Listas Simplemente Ligadas visto hoy en clase\n",
        "\n",
        "Nota las diapositivas se encuentran en el Tablón.\n",
        "\n",
        "Entrega: enviar el link de su Github, directo al archivo ipynb en donde subirán el código de la tarea.'''\n",
        "\n",
        "#Ledesma Briones Antonio Yamir\n",
        "#Tarea 4 Listas simplemente ligadas\n",
        "\n",
        "class Nodo:\n",
        "    def __init__( self , dato, siguiente=None ):\n",
        "        self.dato = dato\n",
        "        self.siguiente = siguiente\n",
        "\n",
        "\n",
        "class LinkedList:\n",
        "    def __init__ (self ):\n",
        "        self.__head = None\n",
        "\n",
        "    def is_empty ( self ):\n",
        "        return self.__head == None\n",
        "\n",
        "    def tail (self):\n",
        "        curr_node = self.__head\n",
        "        while curr_node != None and curr_node.siguiente != None:\n",
        "            curr_node = curr_node.siguiente\n",
        "        return curr_node\n",
        "\n",
        "    def append(self, value):\n",
        "        nuevo = Nodo(value)\n",
        "        if self.__head == None:\n",
        "            self.__head = nuevo\n",
        "        else:\n",
        "            self.tail().siguiente = nuevo\n",
        "\n",
        "    def transversal(self):\n",
        "        curr_node = self.__head\n",
        "        if curr_node == None:\n",
        "            print(\"lista vacía\")\n",
        "        else:\n",
        "            while curr_node != None:\n",
        "                print(f\"{curr_node.dato} --->\",end=\"\")\n",
        "                curr_node = curr_node.siguiente\n",
        "        print()\n",
        "\n",
        "    def preppend(self,value):\n",
        "        nuevo = Nodo(value)\n",
        "        if self.__head == None:\n",
        "            self.__head == nuevo\n",
        "        else:\n",
        "            x = self.__head\n",
        "            self.__head = nuevo\n",
        "            nuevo.siguiente = x\n",
        "\n",
        "    #Elimina la primer coincidencia del valor ingresado\n",
        "    def remove(self,value):\n",
        "        if self.__head != None:\n",
        "            if self.__head.dato == value:\n",
        "                self.__head = self.__head.siguiente\n",
        "                return None\n",
        "\n",
        "            curr_node = self.__head\n",
        "            while( curr_node.siguiente != None ):\n",
        "                if curr_node.siguiente.dato == value:\n",
        "                    curr_node.siguiente = curr_node.siguiente.siguiente\n",
        "                    coincidencia = True\n",
        "                    return None\n",
        "                else:\n",
        "                    curr_node = curr_node.siguiente\n",
        "            print('No hay coincidencias') \n",
        "        else:\n",
        "            print('Lista vacia')\n",
        "\n",
        "    #Eliminar el valor en el índice indicado\n",
        "    def pop(self,pos):\n",
        "            if pos==0:\n",
        "                num = self.__head.dato\n",
        "                print(f\"Se eliminó el valor {num} en el índice {pos} \")\n",
        "                self.__head = self.__head.siguiente\n",
        "                return num\n",
        "            else:\n",
        "                i = 0\n",
        "                curr_node = self.__head\n",
        "                dentro = None\n",
        "                while curr_node.siguiente != None :\n",
        "                    encontrado = True\n",
        "                    if i+1 == pos:\n",
        "                        num = curr_node.siguiente.dato\n",
        "                        curr_node.siguiente = curr_node.siguiente.siguiente\n",
        "                        print(f\"Se eliminó el valor {num} en el índice {pos}\")\n",
        "                        return num\n",
        "                    elif pos == -1 and curr_node.siguiente.siguiente == None:\n",
        "                        num = curr_node.siguiente.dato\n",
        "                        curr_node.siguiente = curr_node.siguiente.siguiente\n",
        "                        return num\n",
        "                    else:\n",
        "                        encontrado = False\n",
        "                    i+=1\n",
        "                    curr_node = curr_node.siguiente\n",
        "                if encontrado == False:\n",
        "                    print(f\"No existe ningún valor en el índice {pos}. No se eliminó ningún valor\")"
      ],
      "execution_count": 210,
      "outputs": []
    },
    {
      "cell_type": "code",
      "metadata": {
        "colab": {
          "base_uri": "https://localhost:8080/"
        },
        "id": "-PCpidcKsaFd",
        "outputId": "742b4848-16fb-48ab-94ff-b8fb2917fb5d"
      },
      "source": [
        "l = LinkedList()\n",
        "print(f\"l está vacía? ={l.is_empty()}\")\n",
        "x = l.tail()\n",
        "print(x)\n",
        "l.append(10)\n",
        "l.append(20)\n",
        "l.append(30)\n",
        "l.append(40)\n",
        "l.transversal()\n",
        "l.preppend (5)\n",
        "l.transversal()\n",
        "l.remove(10)\n",
        "l.transversal()\n",
        "l.pop(3)\n",
        "l.transversal()\n"
      ],
      "execution_count": 214,
      "outputs": [
        {
          "output_type": "stream",
          "text": [
            "l está vacía? =True\n",
            "None\n",
            "10 --->20 --->30 --->40 --->\n",
            "5 --->10 --->20 --->30 --->40 --->\n",
            "5 --->20 --->30 --->40 --->\n",
            "Se eliminó el valor 40 en el índice 3\n",
            "5 --->20 --->30 --->\n"
          ],
          "name": "stdout"
        }
      ]
    }
  ]
}