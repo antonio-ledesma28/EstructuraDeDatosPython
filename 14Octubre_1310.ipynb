{
  "nbformat": 4,
  "nbformat_minor": 0,
  "metadata": {
    "colab": {
      "name": "14Octubre_1310.ipynb",
      "provenance": [],
      "toc_visible": true,
      "authorship_tag": "ABX9TyM1Jg+MhKf6efOT6kDuQjao",
      "include_colab_link": true
    },
    "kernelspec": {
      "name": "python3",
      "display_name": "Python 3"
    }
  },
  "cells": [
    {
      "cell_type": "markdown",
      "metadata": {
        "id": "view-in-github",
        "colab_type": "text"
      },
      "source": [
        "<a href=\"https://colab.research.google.com/github/antonio-ledesma28/edd1358_2021/blob/master/14Octubre_1310.ipynb\" target=\"_parent\"><img src=\"https://colab.research.google.com/assets/colab-badge.svg\" alt=\"Open In Colab\"/></a>"
      ]
    },
    {
      "cell_type": "code",
      "metadata": {
        "id": "V02vKpeBpnpB",
        "outputId": "e8c19e00-c53f-4860-94f4-8364c958df5c",
        "colab": {
          "base_uri": "https://localhost:8080/",
          "height": 68
        }
      },
      "source": [
        "def calcular (a,b,c):\n",
        "  x= a + (b/c)\n",
        "  return x\n",
        "\n",
        "print(calcular(5,9,3))\n",
        "print(calcular(a=5,c=3,b=9))\n",
        "\n",
        "def calcular_v2 (a=10,b=20,c=5):\n",
        "  x=a+(b/c)\n",
        "  return x\n",
        "\n",
        "print(calcular_v2(40,8))\n"
      ],
      "execution_count": 5,
      "outputs": [
        {
          "output_type": "stream",
          "text": [
            "8.0\n",
            "8.0\n",
            "41.6\n"
          ],
          "name": "stdout"
        }
      ]
    },
    {
      "cell_type": "markdown",
      "metadata": {
        "id": "ai31Ox9Lr_vq"
      },
      "source": [
        "###Argumentos a funciones por tupla###\n",
        "Se envían argumentos en conjunto de elementos dentro de una tupla"
      ]
    },
    {
      "cell_type": "code",
      "metadata": {
        "id": "omdaWfv_sKnb",
        "outputId": "ac23b489-b7f2-40c2-dc29-d29aa95be32f",
        "colab": {
          "base_uri": "https://localhost:8080/",
          "height": 51
        }
      },
      "source": [
        "def calculo(*elem):\n",
        "  print(elem)\n",
        "  x=elem[0] +(elem[1]/elem[2])\n",
        "  return x\n",
        "\n",
        "\n",
        "print(calculo(5,9,3,8,8,8))"
      ],
      "execution_count": 8,
      "outputs": [
        {
          "output_type": "stream",
          "text": [
            "(5, 9, 3, 8, 8, 8)\n",
            "8.0\n"
          ],
          "name": "stdout"
        }
      ]
    },
    {
      "cell_type": "markdown",
      "metadata": {
        "id": "YEKt8Ie-s5Xc"
      },
      "source": [
        "###Argumentos como diccionario"
      ]
    },
    {
      "cell_type": "code",
      "metadata": {
        "id": "ZZQxYE7ZsLeB",
        "outputId": "41c20c53-e536-4a9e-97a1-dff476698560",
        "colab": {
          "base_uri": "https://localhost:8080/",
          "height": 51
        }
      },
      "source": [
        "def calculo(**elem):\n",
        "  print(elem)\n",
        "  x=elem['a']+ (elem['b']/elem['c'])\n",
        "  return x\n",
        "print(calculo(a=5,b=9,c=3))\n"
      ],
      "execution_count": 10,
      "outputs": [
        {
          "output_type": "stream",
          "text": [
            "{'a': 5, 'b': 9, 'c': 3}\n",
            "8.0\n"
          ],
          "name": "stdout"
        }
      ]
    },
    {
      "cell_type": "markdown",
      "metadata": {
        "id": "iwe1QN9Y2qrB"
      },
      "source": [
        "* archivos\n",
        "- abrirlo\n",
        "  - Un str con la ruta del archivo\n",
        "  - Dos caracteres: 1-> modo de apertura (r,w) y el 2 forma (texto o Binario)\n",
        "- leerlos\n",
        "- modificarlos"
      ]
    },
    {
      "cell_type": "code",
      "metadata": {
        "id": "6BgVT1n93JQO"
      },
      "source": [
        "archivo = open('ejemplo.txt', 'wt')\n",
        "archivo.write(\"Hola mundo de archivos\")\n",
        "#Cerrar archivo\n",
        "archivo.close()"
      ],
      "execution_count": 12,
      "outputs": []
    },
    {
      "cell_type": "code",
      "metadata": {
        "id": "1GcSnQ8_4YZ5",
        "outputId": "28007689-1344-4e02-ef21-a30d4b5b4d37",
        "colab": {
          "base_uri": "https://localhost:8080/",
          "height": 34
        }
      },
      "source": [
        "cat ejemplo.txt"
      ],
      "execution_count": 13,
      "outputs": [
        {
          "output_type": "stream",
          "text": [
            "Hola mundo de archivos"
          ],
          "name": "stdout"
        }
      ]
    },
    {
      "cell_type": "code",
      "metadata": {
        "id": "XMond5p15jIH"
      },
      "source": [
        "!(cat ejemplo.txt> otra.txt)"
      ],
      "execution_count": 16,
      "outputs": []
    }
  ]
}