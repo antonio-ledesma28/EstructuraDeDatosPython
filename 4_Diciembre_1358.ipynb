{
  "nbformat": 4,
  "nbformat_minor": 0,
  "metadata": {
    "colab": {
      "name": "4_Diciembre_1358.ipynb",
      "provenance": [],
      "collapsed_sections": [],
      "authorship_tag": "ABX9TyNxcDERcjw5mXS3wiJxr38Q",
      "include_colab_link": true
    },
    "kernelspec": {
      "name": "python3",
      "display_name": "Python 3"
    }
  },
  "cells": [
    {
      "cell_type": "markdown",
      "metadata": {
        "id": "view-in-github",
        "colab_type": "text"
      },
      "source": [
        "<a href=\"https://colab.research.google.com/github/antonio-ledesma28/edd1358_2021/blob/master/4_Diciembre_1358.ipynb\" target=\"_parent\"><img src=\"https://colab.research.google.com/assets/colab-badge.svg\" alt=\"Open In Colab\"/></a>"
      ]
    },
    {
      "cell_type": "code",
      "metadata": {
        "id": "CGYj5K9bj-dY"
      },
      "source": [
        "\"\"\"\n",
        "Array2D\n",
        "\"\"\"\n",
        "\n",
        "class Array2D:\n",
        "\n",
        "    def __init__(self,rows, cols, value):\n",
        "        self.__cols = cols\n",
        "        self.__rows = rows\n",
        "        self.__array=[[value for x in range(self.__cols)] for y in range(self.__rows)]\n",
        "\n",
        "    def to_string(self):\n",
        "        [print(\"---\",end=\"\") for x in range(self.__cols)]\n",
        "        print(\"\")\n",
        "        for ren in self.__array:\n",
        "            print(ren)\n",
        "        [print(\"---\",end=\"\") for x in range(self.__cols)]\n",
        "        print(\"\")\n",
        "\n",
        "    def get_num_rows(self):\n",
        "        return self.__rows\n",
        "\n",
        "    def get_num_cols(self):\n",
        "        return self.__cols\n",
        "\n",
        "    def get_item(self,row,col):\n",
        "        return self.__array[row][col]\n",
        "\n",
        "    def set_item( self , row , col , valor ):\n",
        "        self.__array[row][col]=valor\n",
        "\n",
        "    def clearing(self, valor=0):\n",
        "        for ren in range(self.__rows):\n",
        "            for col in range(self.__cols):\n",
        "                self.__array[ren][col]=valor"
      ],
      "execution_count": 8,
      "outputs": []
    },
    {
      "cell_type": "code",
      "metadata": {
        "id": "QkXL9DJvoEl4"
      },
      "source": [
        "class Stack:\n",
        "    def __init__(self):\n",
        "        self.__data = []\n",
        "        self.__size = 0\n",
        "\n",
        "    def pop(self):\n",
        "        return self.__data.pop()\n",
        "\n",
        "    def get_size(self):\n",
        "        return self.__size\n",
        "\n",
        "    def peak(self):\n",
        "        if len(self.__data) > 0:\n",
        "            return self.__data[-1]\n",
        "        else:\n",
        "            return None\n",
        "\n",
        "    def push(self,value):\n",
        "        self.__data.append(value)\n",
        "        self.__size += 1\n",
        "\n",
        "    def to_string(self):\n",
        "        print(\"-\"*6)\n",
        "        for dato in self.__data[::-1]:\n",
        "            print(f\"| {dato} |\")\n",
        "            print(\"/\" * 6)\n",
        "        print(\"\")"
      ],
      "execution_count": 9,
      "outputs": []
    },
    {
      "cell_type": "code",
      "metadata": {
        "id": "zP2PDOZYkkKf"
      },
      "source": [
        "class LaberintoADT:\n",
        "    def __init__(self,archivo):\n",
        "        self.__laberinto = Array2D(0,0,0)\n",
        "        self.__camino = Stack()\n",
        "        self.__rens = 0\n",
        "        self.__cols = 0\n",
        "        self.__entrada = (0,0)\n",
        "\n",
        "        entrada = open(archivo,'rt')\n",
        "        datos = entrada.readlines()\n",
        "        self.__rens = int(datos.pop(0).strip())\n",
        "        self.__cols = int(datos.pop(0).strip())\n",
        "        self.__entrada = list(datos[0].strip().split(','))\n",
        "        self.__entrada[0] = int(self.__entrada[0])\n",
        "        self.__entrada[1] = int(self.__entrada[1])\n",
        "        self.__camino.push(tuple(self.__entrada[0],self.__entrada[1]))\n",
        "\n",
        "        datos.pop(0) #Eliminamos la tupla\n",
        "        print(self.__rens,self.__cols,self.__entrada)\n",
        "        print(datos)\n",
        "\n",
        "        self.__laberinto = Array2D(self.__rens,self.__cols,'1')\n",
        "        for renglon in range(self.__rens):\n",
        "            info_ren = datos[renglon].strip().split(',')\n",
        "            for columna in range(self.__cols):\n",
        "                self.__laberinto.set_item(renglon,columna,info_ren[columna])\n",
        "\n",
        "        self.__laberinto.to_string()\n",
        "\n",
        "    def resolver(self):\n",
        "        actual = self.__camino.peek()\n"
      ],
      "execution_count": 10,
      "outputs": []
    },
    {
      "cell_type": "code",
      "metadata": {
        "colab": {
          "base_uri": "https://localhost:8080/",
          "height": 301
        },
        "id": "e6Hjp5R4nYSu",
        "outputId": "4a9513bc-96d4-40a7-a38b-9d9e44943994"
      },
      "source": [
        "#main\n",
        "laberinto = LaberintoADT(\"entrada.txt\")"
      ],
      "execution_count": 11,
      "outputs": [
        {
          "output_type": "error",
          "ename": "TypeError",
          "evalue": "ignored",
          "traceback": [
            "\u001b[0;31m---------------------------------------------------------------------------\u001b[0m",
            "\u001b[0;31mTypeError\u001b[0m                                 Traceback (most recent call last)",
            "\u001b[0;32m<ipython-input-11-b976b5d696a4>\u001b[0m in \u001b[0;36m<module>\u001b[0;34m()\u001b[0m\n\u001b[1;32m      1\u001b[0m \u001b[0;31m#main\u001b[0m\u001b[0;34m\u001b[0m\u001b[0;34m\u001b[0m\u001b[0;34m\u001b[0m\u001b[0m\n\u001b[0;32m----> 2\u001b[0;31m \u001b[0mlaberinto\u001b[0m \u001b[0;34m=\u001b[0m \u001b[0mLaberintoADT\u001b[0m\u001b[0;34m(\u001b[0m\u001b[0;34m\"entrada.txt\"\u001b[0m\u001b[0;34m)\u001b[0m\u001b[0;34m\u001b[0m\u001b[0;34m\u001b[0m\u001b[0m\n\u001b[0m",
            "\u001b[0;32m<ipython-input-10-5c96d197c5b3>\u001b[0m in \u001b[0;36m__init__\u001b[0;34m(self, archivo)\u001b[0m\n\u001b[1;32m     14\u001b[0m         \u001b[0mself\u001b[0m\u001b[0;34m.\u001b[0m\u001b[0m__entrada\u001b[0m\u001b[0;34m[\u001b[0m\u001b[0;36m0\u001b[0m\u001b[0;34m]\u001b[0m \u001b[0;34m=\u001b[0m \u001b[0mint\u001b[0m\u001b[0;34m(\u001b[0m\u001b[0mself\u001b[0m\u001b[0;34m.\u001b[0m\u001b[0m__entrada\u001b[0m\u001b[0;34m[\u001b[0m\u001b[0;36m0\u001b[0m\u001b[0;34m]\u001b[0m\u001b[0;34m)\u001b[0m\u001b[0;34m\u001b[0m\u001b[0;34m\u001b[0m\u001b[0m\n\u001b[1;32m     15\u001b[0m         \u001b[0mself\u001b[0m\u001b[0;34m.\u001b[0m\u001b[0m__entrada\u001b[0m\u001b[0;34m[\u001b[0m\u001b[0;36m1\u001b[0m\u001b[0;34m]\u001b[0m \u001b[0;34m=\u001b[0m \u001b[0mint\u001b[0m\u001b[0;34m(\u001b[0m\u001b[0mself\u001b[0m\u001b[0;34m.\u001b[0m\u001b[0m__entrada\u001b[0m\u001b[0;34m[\u001b[0m\u001b[0;36m1\u001b[0m\u001b[0;34m]\u001b[0m\u001b[0;34m)\u001b[0m\u001b[0;34m\u001b[0m\u001b[0;34m\u001b[0m\u001b[0m\n\u001b[0;32m---> 16\u001b[0;31m         \u001b[0mself\u001b[0m\u001b[0;34m.\u001b[0m\u001b[0m__camino\u001b[0m\u001b[0;34m.\u001b[0m\u001b[0mpush\u001b[0m\u001b[0;34m(\u001b[0m\u001b[0mtuple\u001b[0m\u001b[0;34m(\u001b[0m\u001b[0mself\u001b[0m\u001b[0;34m.\u001b[0m\u001b[0m__entrada\u001b[0m\u001b[0;34m[\u001b[0m\u001b[0;36m0\u001b[0m\u001b[0;34m]\u001b[0m\u001b[0;34m,\u001b[0m\u001b[0mself\u001b[0m\u001b[0;34m.\u001b[0m\u001b[0m__entrada\u001b[0m\u001b[0;34m[\u001b[0m\u001b[0;36m1\u001b[0m\u001b[0;34m]\u001b[0m\u001b[0;34m)\u001b[0m\u001b[0;34m)\u001b[0m\u001b[0;34m\u001b[0m\u001b[0;34m\u001b[0m\u001b[0m\n\u001b[0m\u001b[1;32m     17\u001b[0m \u001b[0;34m\u001b[0m\u001b[0m\n\u001b[1;32m     18\u001b[0m         \u001b[0mdatos\u001b[0m\u001b[0;34m.\u001b[0m\u001b[0mpop\u001b[0m\u001b[0;34m(\u001b[0m\u001b[0;36m0\u001b[0m\u001b[0;34m)\u001b[0m \u001b[0;31m#Eliminamos la tupla\u001b[0m\u001b[0;34m\u001b[0m\u001b[0;34m\u001b[0m\u001b[0m\n",
            "\u001b[0;31mTypeError\u001b[0m: tuple() takes at most 1 argument (2 given)"
          ]
        }
      ]
    }
  ]
}