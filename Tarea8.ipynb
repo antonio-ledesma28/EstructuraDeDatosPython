{
  "nbformat": 4,
  "nbformat_minor": 0,
  "metadata": {
    "colab": {
      "name": "Tarea8.ipynb",
      "provenance": [],
      "authorship_tag": "ABX9TyP88Ty/OeSCIoQZjSzj+Qjz",
      "include_colab_link": true
    },
    "kernelspec": {
      "name": "python3",
      "display_name": "Python 3"
    }
  },
  "cells": [
    {
      "cell_type": "markdown",
      "metadata": {
        "id": "view-in-github",
        "colab_type": "text"
      },
      "source": [
        "<a href=\"https://colab.research.google.com/github/antonio-ledesma28/edd1358_2021/blob/master/Tarea8.ipynb\" target=\"_parent\"><img src=\"https://colab.research.google.com/assets/colab-badge.svg\" alt=\"Open In Colab\"/></a>"
      ]
    },
    {
      "cell_type": "code",
      "metadata": {
        "id": "Rnkfh_r--lmH"
      },
      "source": [
        "#LEDESMA BRIONES ANTONIO YAMIR\r\n",
        "\r\n",
        "class Queue:\r\n",
        "\tdef __init__(self):\r\n",
        "\t\tself.__data = []\r\n",
        "\r\n",
        "\tdef is_empty(self):\r\n",
        "\t\treturn len(self.__data) == 0\r\n",
        "\r\n",
        "\tdef length(self):\r\n",
        "\t\treturn len(self.__data)\r\n",
        "  \r\n",
        "\tdef enqueue(self,elem):\r\n",
        "\t\tself.__data.append(elem)\r\n",
        "  \r\n",
        "\tdef dequeue(self):\r\n",
        "\t\tif len(self.__data) > 0:\r\n",
        "\t\t\treturn self.__data.pop(0)\r\n",
        "\t\treturn None\r\n",
        "        \r\n",
        "\tdef to_string(self):\r\n",
        "\t\tfor i in self.__data:\r\n",
        "\t\t\tprint(f'|{i}',end='')\r\n",
        "\t\tprint('|')\r\n",
        "        "
      ],
      "execution_count": 9,
      "outputs": []
    },
    {
      "cell_type": "code",
      "metadata": {
        "id": "5evBqESGBKtn"
      },
      "source": [
        "class BoundedPriorityQueue:\r\n",
        "\tdef __init__(self,niveles):\r\n",
        "\t\tself.__data = [Queue() for x in range(niveles)]\r\n",
        "\t\tself.__size = 0\r\n",
        "\r\n",
        "\tdef is_empty(self):\r\n",
        "\t\treturn len(self.__data) == 0\r\n",
        "\r\n",
        "\tdef length(self):\r\n",
        "\t\treturn len(self.__data)\r\n",
        "  \r\n",
        "\tdef enqueue(prioridad , elem):\r\n",
        "\t\tself.__data[prioridad].enqueue(elem)\r\n",
        "\r\n",
        "    def dequeue(self):\r\n",
        "\t\tif len(self.__data) > 0:\r\n",
        "\t\t\treturn self.__data.pop(0)\r\n",
        "\t\treturn None\r\n",
        "        \r\n",
        "\tdef to_string(self):\r\n",
        "\t\tfor i in self.__data:\r\n",
        "\t\t\tprint(f'|{i}',end='')\r\n",
        "\t\tprint('|')"
      ],
      "execution_count": 15,
      "outputs": []
    },
    {
      "cell_type": "code",
      "metadata": {
        "id": "uoE6iNVEACK5"
      },
      "source": [
        ""
      ],
      "execution_count": null,
      "outputs": []
    }
  ]
}