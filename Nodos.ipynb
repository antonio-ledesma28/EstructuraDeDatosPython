{
  "nbformat": 4,
  "nbformat_minor": 0,
  "metadata": {
    "colab": {
      "name": "Nodos.ipynb",
      "provenance": [],
      "authorship_tag": "ABX9TyNpynF/OpM3KuayCZT6Hbrf",
      "include_colab_link": true
    },
    "kernelspec": {
      "name": "python3",
      "display_name": "Python 3"
    }
  },
  "cells": [
    {
      "cell_type": "markdown",
      "metadata": {
        "id": "view-in-github",
        "colab_type": "text"
      },
      "source": [
        "<a href=\"https://colab.research.google.com/github/antonio-ledesma28/edd1358_2021/blob/master/Nodos.ipynb\" target=\"_parent\"><img src=\"https://colab.research.google.com/assets/colab-badge.svg\" alt=\"Open In Colab\"/></a>"
      ]
    },
    {
      "cell_type": "code",
      "metadata": {
        "id": "cMFLMzcb4laE",
        "outputId": "254580ad-7f0c-496d-ec8f-640cc07171c5",
        "colab": {
          "base_uri": "https://localhost:8080/"
        }
      },
      "source": [
        "class Nodo:\n",
        "    def __init__(self, dato):\n",
        "        self.__dato = dato\n",
        "        self.__siguiente = None\n",
        "\n",
        "    def get_dato(self):\n",
        "        return self.__dato\n",
        "\n",
        "    def set_dato(self,d):\n",
        "        self.__dato = d\n",
        "\n",
        "    def get_siguiente(self):\n",
        "        return self.__siguiente\n",
        "\n",
        "    def set_siguiente(self, d):\n",
        "        self.__siguiente = d\n",
        "\n",
        "    def to_string(self):\n",
        "        return \" | \" + str(self.__dato) + \" | \" +str(self.__siguiente) +  \" | -->\"\n",
        "\n",
        "    def show(self):\n",
        "        curr_node = self #Head\n",
        "        print(\" Inicio de la estructura ligada:\")\n",
        "        print(\"|\" +str(curr_node.get_dato())+\"| -->\", end =\"\")\n",
        "        while (curr_node.get_siguiente() != None ):\n",
        "            curr_node = curr_node.get_siguiente()\n",
        "            print(\"|\" + str(curr_node.get_dado())+ \"|-->\", end =\"\")\n",
        "            print (\"\\nFin\")\n",
        "            \n",
        "\n",
        "\n",
        "#Ejemplo 1\n",
        "a = Nodo(10)\n",
        "print(a.to_string())\n",
        "\n",
        "#Ejemplo 2\n",
        "a.set_siguiente(20)\n",
        "print(a.to_string())\n",
        "\n",
        "#Ejemplo 3\n"
      ],
      "execution_count": 11,
      "outputs": [
        {
          "output_type": "stream",
          "text": [
            " | 10 | None | -->\n",
            " | 10 | 20 | -->\n"
          ],
          "name": "stdout"
        }
      ]
    }
  ]
}