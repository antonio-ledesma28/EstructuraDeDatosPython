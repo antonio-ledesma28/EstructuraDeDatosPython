{
  "nbformat": 4,
  "nbformat_minor": 0,
  "metadata": {
    "colab": {
      "name": "28Septiembre1350",
      "provenance": [],
      "authorship_tag": "ABX9TyNzdSCIt2moM65/6pbVm/zq",
      "include_colab_link": true
    },
    "kernelspec": {
      "name": "python3",
      "display_name": "Python 3"
    }
  },
  "cells": [
    {
      "cell_type": "markdown",
      "metadata": {
        "id": "view-in-github",
        "colab_type": "text"
      },
      "source": [
        "<a href=\"https://colab.research.google.com/github/antonio-ledesma28/edd1358_2020/blob/master/28Septiembre1350.ipynb\" target=\"_parent\"><img src=\"https://colab.research.google.com/assets/colab-badge.svg\" alt=\"Open In Colab\"/></a>"
      ]
    },
    {
      "cell_type": "code",
      "metadata": {
        "id": "vqkJonuTXMoT",
        "outputId": "63132f32-3ebb-42f5-baf3-96737d53dc35",
        "colab": {
          "base_uri": "https://localhost:8080/",
          "height": 34
        }
      },
      "source": [
        "print(\"Hola Colab Research\")\n",
        "nombre = \"edD\""
      ],
      "execution_count": null,
      "outputs": [
        {
          "output_type": "stream",
          "text": [
            "Hola Colab Research\n"
          ],
          "name": "stdout"
        }
      ]
    },
    {
      "cell_type": "code",
      "metadata": {
        "id": "GLt0cD_8ZE5-",
        "outputId": "f305ebc8-45e8-42d3-f894-691411aa81db",
        "colab": {
          "base_uri": "https://localhost:8080/",
          "height": 34
        }
      },
      "source": [
        "print(nombre)"
      ],
      "execution_count": null,
      "outputs": [
        {
          "output_type": "stream",
          "text": [
            "edD\n"
          ],
          "name": "stdout"
        }
      ]
    },
    {
      "cell_type": "markdown",
      "metadata": {
        "id": "iFmOEXuLaF-Y"
      },
      "source": [
        "# Hola, esto es un ecabezado\n",
        "*Elemento 1\n",
        "*Elemento 2\n",
        "*Elemento 3\n",
        "\n",
        "1. Fresa\n",
        "1. Manzana\n",
        "1. Pera\n",
        "1, Naranja\n",
        "\n",
        "Este es un texto que quiero poner en **negrita**s y en _itálicas_.\n",
        "Las **_dos_**\n",
        "[Ir a MarkDown](https://github.com/adam-p/markdown-here/wiki/Markdown-Cheatsheet)"
      ]
    },
    {
      "cell_type": "code",
      "metadata": {
        "id": "gmuA2fzpcDFi"
      },
      "source": [
        "class Silla():\n",
        "  def __init__( self ):\n",
        "    self.material =\"\"\n",
        "    self.color=\"\"\n",
        "\n",
        "  def to_string( self ):\n",
        "      print(\"======\")\n",
        "      print(f\"Material: {self.material}\")\n",
        "      print(f\"{self.color} ----\" )\n"
      ],
      "execution_count": 7,
      "outputs": []
    },
    {
      "cell_type": "code",
      "metadata": {
        "id": "udk14feFefeT",
        "outputId": "5f447a69-0bf8-4f08-bc7a-0189178ae396",
        "colab": {
          "base_uri": "https://localhost:8080/",
          "height": 68
        }
      },
      "source": [
        "obj= Silla()\n",
        "obj.material =\"madera\"\n",
        "obj.color=\"Rojo\"\n",
        "obj.to_string()"
      ],
      "execution_count": 8,
      "outputs": [
        {
          "output_type": "stream",
          "text": [
            "======\n",
            "Material: madera\n",
            "Rojo ----\n"
          ],
          "name": "stdout"
        }
      ]
    }
  ]
}