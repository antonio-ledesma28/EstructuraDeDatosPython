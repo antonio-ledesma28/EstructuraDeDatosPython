{
  "nbformat": 4,
  "nbformat_minor": 0,
  "metadata": {
    "colab": {
      "name": "21Octubre_1358.ipynb",
      "provenance": [],
      "authorship_tag": "ABX9TyMdX8wg3OsH/wtv7QWiityx",
      "include_colab_link": true
    },
    "kernelspec": {
      "name": "python3",
      "display_name": "Python 3"
    }
  },
  "cells": [
    {
      "cell_type": "markdown",
      "metadata": {
        "id": "view-in-github",
        "colab_type": "text"
      },
      "source": [
        "<a href=\"https://colab.research.google.com/github/antonio-ledesma28/edd1358_2021/blob/master/21Octubre_1358.ipynb\" target=\"_parent\"><img src=\"https://colab.research.google.com/assets/colab-badge.svg\" alt=\"Open In Colab\"/></a>"
      ]
    },
    {
      "cell_type": "code",
      "metadata": {
        "id": "KiyKI_pxtZyT",
        "outputId": "cec3e9e5-aa98-4696-bf01-9af160cea1cb",
        "colab": {
          "base_uri": "https://localhost:8080/",
          "height": 85
        }
      },
      "source": [
        "#ENCAPSULAMIENTO ESTILO TRADICIONAL\n",
        "class SmartPhone:\n",
        "  def __init__(self, m):\n",
        "    self.__marca = m\n",
        "\n",
        "  def set_marca(self, m):\n",
        "    self.__marca = m\n",
        "\n",
        "  def get_marca (self):\n",
        "    return self.__marca\n",
        "\n",
        "  def to_String(self):\n",
        "    return \"La marca del teléfono es: \" + self.__marca\n",
        "\n",
        "sp1 = SmartPhone(\"Huawei\")\n",
        "print(sp1.to_String())\n",
        "\n",
        "#Encapsulamiento\n",
        "sp1.__marca = \"Iphone X\"\n",
        "print(sp1.to_String())\n",
        "\n",
        "#El valor es cambiado ya que fue a través del método set\n",
        "sp1.set_marca(\"Samsung\")\n",
        "print(sp1.to_String())\n",
        "\n",
        "#Imprime valor del atributo\n",
        "print(sp1.get_marca())"
      ],
      "execution_count": 12,
      "outputs": [
        {
          "output_type": "stream",
          "text": [
            "La marca del teléfono es: Huawei\n",
            "La marca del teléfono es: Huawei\n",
            "La marca del teléfono es: Samsung\n",
            "Samsung\n"
          ],
          "name": "stdout"
        }
      ]
    },
    {
      "cell_type": "code",
      "metadata": {
        "id": "gXBNsYt0xXz0",
        "outputId": "28010653-c9ed-4f81-a956-c7bfec1da06f",
        "colab": {
          "base_uri": "https://localhost:8080/",
          "height": 119
        }
      },
      "source": [
        "#ENCAPSULAMIENTO ESTILO PYTHON 3\n",
        "class SmartPhone:\n",
        "    def __init__ (self, m):\n",
        "        self.marca=m #Llamando al método set\n",
        "\n",
        "    @property\n",
        "    def marca(self): #Define método get y declara self.__marca\n",
        "        #print(\"En el método get de marca\")\n",
        "        return self.__marca\n",
        "\n",
        "    @marca.setter\n",
        "    def marca(self,m):\n",
        "        if m in[\"Lenovo\",\"Sony\",\"Motorola\",\"I Phone SE\",\"Huawei\",\"Xiaomi\"]:\n",
        "            self.__marca = m\n",
        "\n",
        "        else:\n",
        "            print(\"Asignación no válida\")\n",
        "    \n",
        "    def to_String(self):\n",
        "        return \"Marca = \"+ self.marca\n",
        "\n",
        "sp2 = SmartPhone(\"Xiaomi\")\n",
        "print(sp2.to_String())\n",
        "\n",
        "#No se puede ya que está encapsulado\n",
        "sp2.__marca = \"I Phone SE\"\n",
        "print(sp2.to_String())\n",
        "\n",
        "#Incovavción del método set\n",
        "sp2.marca = \"Motorola\"\n",
        "print(sp2.to_String())\n",
        "\n",
        "#Invocación del método get\n",
        "print(sp2.marca)\n",
        "\n",
        "sp2.marca =\"sfdedregfer 3r45tgrf\"\n",
        "print(sp2.to_String())"
      ],
      "execution_count": 24,
      "outputs": [
        {
          "output_type": "stream",
          "text": [
            "Marca = Xiaomi\n",
            "Marca = Xiaomi\n",
            "Marca = Motorola\n",
            "Motorola\n",
            "Asignación no válida\n",
            "Marca = Motorola\n"
          ],
          "name": "stdout"
        }
      ]
    },
    {
      "cell_type": "code",
      "metadata": {
        "id": "B6qF4Tr_5FMy",
        "outputId": "5777c618-6b42-4eac-a4bc-395f5f027a28",
        "colab": {
          "base_uri": "https://localhost:8080/",
          "height": 71
        }
      },
      "source": [
        "class TelefonoTrabajo(SmartPhone):\n",
        "    def __init__(self,m):\n",
        "        self.marca = m\n",
        "\n",
        "sp3 = TelefonoTrabajo(\"Motorola\")\n",
        "print(dir(sp3))\n",
        "print(sp3.to_String())\n",
        "\n",
        "\n"
      ],
      "execution_count": 26,
      "outputs": [
        {
          "output_type": "stream",
          "text": [
            "['_SmartPhone__marca', '__class__', '__delattr__', '__dict__', '__dir__', '__doc__', '__eq__', '__format__', '__ge__', '__getattribute__', '__gt__', '__hash__', '__init__', '__init_subclass__', '__le__', '__lt__', '__module__', '__ne__', '__new__', '__reduce__', '__reduce_ex__', '__repr__', '__setattr__', '__sizeof__', '__str__', '__subclasshook__', '__weakref__', 'marca', 'to_String']\n",
            "Marca = Motorola\n"
          ],
          "name": "stdout"
        }
      ]
    }
  ]
}