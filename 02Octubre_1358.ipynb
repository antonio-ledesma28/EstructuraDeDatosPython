{
  "nbformat": 4,
  "nbformat_minor": 0,
  "metadata": {
    "colab": {
      "name": "02Octubre_1358.ipynb",
      "provenance": [],
      "authorship_tag": "ABX9TyNgo3lbve2zrcVXCOyfORoZ",
      "include_colab_link": true
    },
    "kernelspec": {
      "name": "python3",
      "display_name": "Python 3"
    }
  },
  "cells": [
    {
      "cell_type": "markdown",
      "metadata": {
        "id": "view-in-github",
        "colab_type": "text"
      },
      "source": [
        "<a href=\"https://colab.research.google.com/github/antonio-ledesma28/edd1358_2021/blob/master/02Octubre_1358.ipynb\" target=\"_parent\"><img src=\"https://colab.research.google.com/assets/colab-badge.svg\" alt=\"Open In Colab\"/></a>"
      ]
    },
    {
      "cell_type": "code",
      "metadata": {
        "id": "nkcjtexyplgu",
        "outputId": "12c45284-081c-468b-a180-dfa0512fbcda",
        "colab": {
          "base_uri": "https://localhost:8080/",
          "height": 153
        }
      },
      "source": [
        "\n",
        "#String puede emplear \"\" o `` o \"\"\"\"\"\"\n",
        "universidad = \"       universidad     nacional     autónoma     de     méxico    \"\n",
        "print(universidad)\n",
        "#Cuando es una sola palabra, solo usa comillas simples.\n",
        "carrera = 'ICO'\n",
        "area = \"Software\"\n",
        "division = 'División de ciencias físico matemáticas'\n",
        "print(carrera,area)\n",
        "print(division)\n",
        "\n",
        "frase = \"\"\"\n",
        "Sí funciona\n",
        "No lo\n",
        "Arregles!!!\n",
        "\"\"\"\n",
        "print (frase)"
      ],
      "execution_count": 25,
      "outputs": [
        {
          "output_type": "stream",
          "text": [
            "       universidad     nacional     autónoma     de     méxico    \n",
            "ICO Software\n",
            "División de ciencias físico matemáticas\n",
            "\n",
            "Sí funciona\n",
            "No lo\n",
            "Arregles!!!\n",
            "\n"
          ],
          "name": "stdout"
        }
      ]
    },
    {
      "cell_type": "code",
      "metadata": {
        "id": "-H1Ol3TDquHI",
        "outputId": "a63300d7-fd4c-44be-d772-e217af9f4527",
        "colab": {
          "base_uri": "https://localhost:8080/",
          "height": 187
        }
      },
      "source": [
        "print(universidad.upper() )\n",
        "print(universidad)\n",
        "print(universidad.title() )\n",
        "#Eliminar espacios a la der e izq \\n\n",
        "universidad = universidad.strip()\n",
        "print(universidad)\n",
        "lista = universidad.split(\" \")\n",
        "print(lista)\n",
        "nueva = \"\";\n",
        "for l in lista:\n",
        "  if len (l) > 0:\n",
        "    nueva += l + \" \" \n",
        "print(nueva)\n",
        "\n",
        "numeros = \"19, 7, 84, 26, 10\"\n",
        "separados = numeros.split(\",\")\n",
        "print(separados)\n",
        "numeros_int= []\n",
        "for num in separados:\n",
        "  numeros_int.append ( int(num) )\n",
        "\n",
        "print(numeros_int)\n",
        "print(universidad)\n",
        "print(universidad.index(\"na\"))"
      ],
      "execution_count": 26,
      "outputs": [
        {
          "output_type": "stream",
          "text": [
            "       UNIVERSIDAD     NACIONAL     AUTÓNOMA     DE     MÉXICO    \n",
            "       universidad     nacional     autónoma     de     méxico    \n",
            "       Universidad     Nacional     Autónoma     De     México    \n",
            "universidad     nacional     autónoma     de     méxico\n",
            "['universidad', '', '', '', '', 'nacional', '', '', '', '', 'autónoma', '', '', '', '', 'de', '', '', '', '', 'méxico']\n",
            "universidad nacional autónoma de méxico \n",
            "['19', ' 7', ' 84', ' 26', ' 10']\n",
            "[19, 7, 84, 26, 10]\n",
            "universidad     nacional     autónoma     de     méxico\n",
            "16\n"
          ],
          "name": "stdout"
        }
      ]
    },
    {
      "cell_type": "markdown",
      "metadata": {
        "id": "mWYvuxW3q3Yb"
      },
      "source": [
        "#**Slicing**\n",
        "###Sintaxis [inicio: stop: incremento]"
      ]
    },
    {
      "cell_type": "code",
      "metadata": {
        "id": "aFpGEylZrVce",
        "outputId": "be7dabb5-f1ef-444a-d0bf-f79289b20e36",
        "colab": {
          "base_uri": "https://localhost:8080/",
          "height": 136
        }
      },
      "source": [
        "Universidad = \"universidad nacional autónoma de méxico\"\n",
        "print(Universidad)\n",
        "#selector de elementos dentro de un string\n",
        "print( Universidad [0] )\n",
        "universidad = Universidad.strip\n",
        "print( Universidad[ len(Universidad) -1])\n",
        "print(Universidad[-2])\n",
        "#slicing\n",
        "print(Universidad[ 12  :  22   :  1])\n",
        "print(Universidad [-1  :  -7   :  -1])\n",
        "\n",
        "#valores por defecto (0: long de la lista :1)\n",
        "print(Universidad[::2] )"
      ],
      "execution_count": 27,
      "outputs": [
        {
          "output_type": "stream",
          "text": [
            "universidad nacional autónoma de méxico\n",
            "u\n",
            "o\n",
            "c\n",
            "nacional a\n",
            "ocixém\n",
            "uiesddncoa uóoad éio\n"
          ],
          "name": "stdout"
        }
      ]
    },
    {
      "cell_type": "markdown",
      "metadata": {
        "id": "syvUkSS1rf4T"
      },
      "source": [
        "#**Bool**\n",
        "###acepta solo dos valores: true bool(1) false bool(0)"
      ]
    },
    {
      "cell_type": "code",
      "metadata": {
        "id": "tBefON3SrqZf",
        "outputId": "7a880262-0df5-4331-80e3-2a80a9114ab0",
        "colab": {
          "base_uri": "https://localhost:8080/",
          "height": 85
        }
      },
      "source": [
        "\n",
        "print(bool(0))\n",
        "print(bool(12345))\n",
        "flag = 0\n",
        "print(bool(flag))\n",
        "print(True)"
      ],
      "execution_count": 28,
      "outputs": [
        {
          "output_type": "stream",
          "text": [
            "False\n",
            "True\n",
            "False\n",
            "True\n"
          ],
          "name": "stdout"
        }
      ]
    },
    {
      "cell_type": "markdown",
      "metadata": {
        "id": "I-NiNrMGrvtR"
      },
      "source": [
        "#**Comentarios**\n",
        "#para un comentario de una linea se usa # para un comentario de multiple linea equivalemte a / / de java y de leng c se utiliza \"\"\" \"\"\""
      ]
    },
    {
      "cell_type": "code",
      "metadata": {
        "id": "C9GKGczOr-pu",
        "outputId": "51492ea5-683f-4ef0-fc1b-2c54e8407a41",
        "colab": {
          "base_uri": "https://localhost:8080/",
          "height": 35
        }
      },
      "source": [
        "#Este es un comentario de línea simple\n",
        "\n",
        "\"\"\"Este es  \n",
        "un comentario de \n",
        "línea multiple\n",
        "\"\"\""
      ],
      "execution_count": 29,
      "outputs": [
        {
          "output_type": "execute_result",
          "data": {
            "application/vnd.google.colaboratory.intrinsic+json": {
              "type": "string"
            },
            "text/plain": [
              "'Este es  \\nun comentario de \\nlínea multiple\\n'"
            ]
          },
          "metadata": {
            "tags": []
          },
          "execution_count": 29
        }
      ]
    },
    {
      "cell_type": "markdown",
      "metadata": {
        "id": "L7-tttvhsEZT"
      },
      "source": [
        "\n",
        "#**Función print**\n",
        "##Existen 4 formas de usar esta funcion.\n",
        "\n",
        "\n",
        "###1.La primera es con (,).\n",
        "###2.La siguiente es con signo + (+)\n",
        "###3.con la funcion format() de la clase string \n",
        "###4.con el operador f\"\""
      ]
    },
    {
      "cell_type": "code",
      "metadata": {
        "id": "aLknQ0DMtIed",
        "outputId": "f30b6f2b-77db-478d-bd18-d11422da081d",
        "colab": {
          "base_uri": "https://localhost:8080/",
          "height": 85
        }
      },
      "source": [
        "\n",
        "#Con comas\n",
        "cantidad = 5\n",
        "precio_papas = 12\n",
        "precio_coca = 15\n",
        "print(cantidad, precio_papas, precio_coca)\n",
        "\n",
        "#Son signo de operador Str\n",
        "print(\"Hola\" + \" \" + \"Mundo\")\n",
        "print(cantidad + precio_papas + precio_coca)\n",
        "print(str(cantidad) + str(precio_papas) + str(precio_coca))"
      ],
      "execution_count": 30,
      "outputs": [
        {
          "output_type": "stream",
          "text": [
            "5 12 15\n",
            "Hola Mundo\n",
            "32\n",
            "51215\n"
          ],
          "name": "stdout"
        }
      ]
    }
  ]
}