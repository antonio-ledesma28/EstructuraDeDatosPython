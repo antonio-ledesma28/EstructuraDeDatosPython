{
  "nbformat": 4,
  "nbformat_minor": 0,
  "metadata": {
    "colab": {
      "name": "30_Nov_1358.ipynb",
      "provenance": [],
      "authorship_tag": "ABX9TyProIpQTyyrzHxD2THtbbwv",
      "include_colab_link": true
    },
    "kernelspec": {
      "name": "python3",
      "display_name": "Python 3"
    }
  },
  "cells": [
    {
      "cell_type": "markdown",
      "metadata": {
        "id": "view-in-github",
        "colab_type": "text"
      },
      "source": [
        "<a href=\"https://colab.research.google.com/github/antonio-ledesma28/edd1358_2021/blob/master/30_Nov_1358.ipynb\" target=\"_parent\"><img src=\"https://colab.research.google.com/assets/colab-badge.svg\" alt=\"Open In Colab\"/></a>"
      ]
    },
    {
      "cell_type": "code",
      "metadata": {
        "id": "yU3JZwpv8hVS"
      },
      "source": [
        "class Stack:\n",
        "    def __init__(self):\n",
        "        self.__data = []\n",
        "        self.__size =0\n",
        "\n",
        "\n",
        "    def pop(self):\n",
        "        return self.__data.pop()\n",
        "\n",
        "\n",
        "    def peek(self):\n",
        "        return self.__data[-1]\n",
        "\n",
        "\n",
        "    def push(self, value):\n",
        "        self.__data.append(value)\n",
        "\n",
        "    \n",
        "    def to_string(self):\n",
        "        print(\"--------\")\n",
        "        for dato in self.__data[::-1]:\n",
        "            print(f\" | {dato} |\")\n",
        "            print(\"--------\")"
      ],
      "execution_count": 12,
      "outputs": []
    },
    {
      "cell_type": "code",
      "metadata": {
        "colab": {
          "base_uri": "https://localhost:8080/"
        },
        "id": "a1bwNPTt9PFM",
        "outputId": "24b7222b-b85e-4b41-dd8f-9033455c245a"
      },
      "source": [
        "pl = Stack()\n",
        "pl.push(34)\n",
        "pl.push(10)\n",
        "pl.push(45)\n",
        "pl.push(4)\n",
        "pl.push(23)\n",
        "pl.push(33)\n",
        "valor = pl.pop()\n",
        "print(valor*2)\n",
        "pl.to_string()\n",
        "valor = pl.peek()\n",
        "print(valor*2)\n",
        "pl.to_string()"
      ],
      "execution_count": 19,
      "outputs": [
        {
          "output_type": "stream",
          "text": [
            "66\n",
            "--------\n",
            " | 23 |\n",
            "--------\n",
            " | 4 |\n",
            "--------\n",
            " | 45 |\n",
            "--------\n",
            " | 10 |\n",
            "--------\n",
            " | 34 |\n",
            "--------\n",
            "46\n",
            "--------\n",
            " | 23 |\n",
            "--------\n",
            " | 4 |\n",
            "--------\n",
            " | 45 |\n",
            "--------\n",
            " | 10 |\n",
            "--------\n",
            " | 34 |\n",
            "--------\n"
          ],
          "name": "stdout"
        }
      ]
    },
    {
      "cell_type": "code",
      "metadata": {
        "colab": {
          "base_uri": "https://localhost:8080/"
        },
        "id": "xrtBkKyLB2dX",
        "outputId": "275345cb-5dec-473b-9b7c-f32343acfd7a"
      },
      "source": [
        "# Aplicaciones de la estructura Stack\n",
        "# Validación de paréntesis balanceados '()' , '{}' y '[]'\n",
        "cadena= \"3*(5+(4/2))\"\n",
        "pila = Stack()\n",
        "pila.push(\"#\") #cARACTER DE PILA VACÍA\n",
        "for elem in cadena:\n",
        "    if elem =='(':\n",
        "        pila.push('*')\n",
        "\n",
        "    elif elem == ')':\n",
        "        pila.pop()\n",
        "\n",
        "    else:\n",
        "        pass\n",
        "\n",
        "if pila.peek() == '#':\n",
        "        print(\"La expresión está balanceada en paréntesis\")\n",
        "\n",
        "else:\n",
        "        print(\"La expresión no está balanceada\")\n"
      ],
      "execution_count": 24,
      "outputs": [
        {
          "output_type": "stream",
          "text": [
            "La expresión está balanceada en paréntesis\n"
          ],
          "name": "stdout"
        }
      ]
    }
  ]
}