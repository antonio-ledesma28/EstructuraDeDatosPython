{
  "nbformat": 4,
  "nbformat_minor": 0,
  "metadata": {
    "colab": {
      "name": "26Octubre_1358.ipynb",
      "provenance": [],
      "authorship_tag": "ABX9TyMsmU/LhwwOzmNGmc6PJoDX",
      "include_colab_link": true
    },
    "kernelspec": {
      "name": "python3",
      "display_name": "Python 3"
    }
  },
  "cells": [
    {
      "cell_type": "markdown",
      "metadata": {
        "id": "view-in-github",
        "colab_type": "text"
      },
      "source": [
        "<a href=\"https://colab.research.google.com/github/antonio-ledesma28/edd1358_2021/blob/master/26Octubre_1358.ipynb\" target=\"_parent\"><img src=\"https://colab.research.google.com/assets/colab-badge.svg\" alt=\"Open In Colab\"/></a>"
      ]
    },
    {
      "cell_type": "code",
      "metadata": {
        "id": "xBtVkQ4n5JMm",
        "outputId": "0c98c5e2-5d42-4f1f-d469-87e48e3ba31e",
        "colab": {
          "base_uri": "https://localhost:8080/",
          "height": 34
        }
      },
      "source": [
        "\"\"\"\n",
        "Array\n",
        "\"\"\"\n",
        "class Array:\n",
        "    def __init__(self,tam):\n",
        "        #Genera un arreglo de 0's\n",
        "        self.__datos = [0 for x in range(tam) ]\n",
        "\n",
        "    def get_item(self,index):\n",
        "        return self.__datos[index]\n",
        "\n",
        "mi_Arreglo = Array(10)\n",
        "print(mi_Arreglo.get_item(2))\n"
      ],
      "execution_count": 6,
      "outputs": [
        {
          "output_type": "stream",
          "text": [
            "0\n"
          ],
          "name": "stdout"
        }
      ]
    }
  ]
}